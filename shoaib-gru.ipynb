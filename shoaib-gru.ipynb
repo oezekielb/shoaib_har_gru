{
 "cells": [
  {
   "cell_type": "code",
   "execution_count": 1,
   "id": "64592d83",
   "metadata": {
    "_cell_guid": "b1076dfc-b9ad-4769-8c92-a6c4dae69d19",
    "_uuid": "8f2839f25d086af736a60e9eeb907d3b93b6e0e5",
    "execution": {
     "iopub.execute_input": "2025-10-25T17:53:47.505516Z",
     "iopub.status.busy": "2025-10-25T17:53:47.505153Z",
     "iopub.status.idle": "2025-10-25T17:54:09.851768Z",
     "shell.execute_reply": "2025-10-25T17:54:09.850703Z"
    },
    "papermill": {
     "duration": 22.354356,
     "end_time": "2025-10-25T17:54:09.853610",
     "exception": false,
     "start_time": "2025-10-25T17:53:47.499254",
     "status": "completed"
    },
    "tags": []
   },
   "outputs": [
    {
     "name": "stderr",
     "output_type": "stream",
     "text": [
      "2025-10-25 17:53:54.157256: E external/local_xla/xla/stream_executor/cuda/cuda_fft.cc:477] Unable to register cuFFT factory: Attempting to register factory for plugin cuFFT when one has already been registered\n",
      "WARNING: All log messages before absl::InitializeLog() is called are written to STDERR\n",
      "E0000 00:00:1761414834.430168      13 cuda_dnn.cc:8310] Unable to register cuDNN factory: Attempting to register factory for plugin cuDNN when one has already been registered\n",
      "E0000 00:00:1761414834.506936      13 cuda_blas.cc:1418] Unable to register cuBLAS factory: Attempting to register factory for plugin cuBLAS when one has already been registered\n"
     ]
    }
   ],
   "source": [
    "import os\n",
    "\n",
    "import pandas as pd\n",
    "import numpy as np\n",
    "from tqdm.auto import tqdm\n",
    "import matplotlib.pyplot as plt\n",
    "import seaborn as sns\n",
    "\n",
    "from sklearn.model_selection import train_test_split\n",
    "from sklearn.preprocessing import LabelEncoder\n",
    "from sklearn.metrics import confusion_matrix, classification_report\n",
    "\n",
    "import tensorflow as tf\n",
    "from tensorflow.keras.utils import to_categorical\n",
    "from tensorflow.keras.models import Sequential\n",
    "from tensorflow.keras.layers import Input, Bidirectional, GRU, LayerNormalization, Dropout, Dense\n",
    "from tensorflow.keras.optimizers import RMSprop"
   ]
  },
  {
   "cell_type": "markdown",
   "id": "eae5cbb0",
   "metadata": {
    "papermill": {
     "duration": 0.003485,
     "end_time": "2025-10-25T17:54:09.861899",
     "exception": false,
     "start_time": "2025-10-25T17:54:09.858414",
     "status": "completed"
    },
    "tags": []
   },
   "source": [
    "# Load dataset"
   ]
  },
  {
   "cell_type": "code",
   "execution_count": 2,
   "id": "325976ef",
   "metadata": {
    "execution": {
     "iopub.execute_input": "2025-10-25T17:54:09.871678Z",
     "iopub.status.busy": "2025-10-25T17:54:09.871023Z",
     "iopub.status.idle": "2025-10-25T17:54:18.905930Z",
     "shell.execute_reply": "2025-10-25T17:54:18.904966Z"
    },
    "papermill": {
     "duration": 9.041847,
     "end_time": "2025-10-25T17:54:18.907651",
     "exception": false,
     "start_time": "2025-10-25T17:54:09.865804",
     "status": "completed"
    },
    "tags": []
   },
   "outputs": [
    {
     "data": {
      "application/vnd.jupyter.widget-view+json": {
       "model_id": "ebbd82a081c242c68edd50e2d93895f7",
       "version_major": 2,
       "version_minor": 0
      },
      "text/plain": [
       "  0%|          | 0/50 [00:00<?, ?it/s]"
      ]
     },
     "metadata": {},
     "output_type": "display_data"
    },
    {
     "data": {
      "text/html": [
       "<div>\n",
       "<style scoped>\n",
       "    .dataframe tbody tr th:only-of-type {\n",
       "        vertical-align: middle;\n",
       "    }\n",
       "\n",
       "    .dataframe tbody tr th {\n",
       "        vertical-align: top;\n",
       "    }\n",
       "\n",
       "    .dataframe thead th {\n",
       "        text-align: right;\n",
       "    }\n",
       "</style>\n",
       "<table border=\"1\" class=\"dataframe\">\n",
       "  <thead>\n",
       "    <tr style=\"text-align: right;\">\n",
       "      <th></th>\n",
       "      <th>Ax</th>\n",
       "      <th>Ay</th>\n",
       "      <th>Az</th>\n",
       "      <th>Gx</th>\n",
       "      <th>Gy</th>\n",
       "      <th>Gz</th>\n",
       "      <th>Mx</th>\n",
       "      <th>My</th>\n",
       "      <th>Mz</th>\n",
       "      <th>Activity</th>\n",
       "    </tr>\n",
       "  </thead>\n",
       "  <tbody>\n",
       "    <tr>\n",
       "      <th>0</th>\n",
       "      <td>9.3436</td>\n",
       "      <td>-3.2416</td>\n",
       "      <td>1.089600</td>\n",
       "      <td>0.830170</td>\n",
       "      <td>0.15302</td>\n",
       "      <td>-0.032681</td>\n",
       "      <td>-28.98</td>\n",
       "      <td>11.94</td>\n",
       "      <td>20.46</td>\n",
       "      <td>1</td>\n",
       "    </tr>\n",
       "    <tr>\n",
       "      <th>1</th>\n",
       "      <td>11.3460</td>\n",
       "      <td>-3.5413</td>\n",
       "      <td>0.027241</td>\n",
       "      <td>0.677760</td>\n",
       "      <td>0.16646</td>\n",
       "      <td>-0.094990</td>\n",
       "      <td>-28.92</td>\n",
       "      <td>12.66</td>\n",
       "      <td>20.34</td>\n",
       "      <td>1</td>\n",
       "    </tr>\n",
       "    <tr>\n",
       "      <th>2</th>\n",
       "      <td>14.2200</td>\n",
       "      <td>-4.7126</td>\n",
       "      <td>0.354130</td>\n",
       "      <td>0.265420</td>\n",
       "      <td>0.32590</td>\n",
       "      <td>-0.045509</td>\n",
       "      <td>-29.04</td>\n",
       "      <td>12.90</td>\n",
       "      <td>20.16</td>\n",
       "      <td>1</td>\n",
       "    </tr>\n",
       "    <tr>\n",
       "      <th>3</th>\n",
       "      <td>14.4510</td>\n",
       "      <td>-4.6582</td>\n",
       "      <td>0.354130</td>\n",
       "      <td>-0.009163</td>\n",
       "      <td>0.22388</td>\n",
       "      <td>-0.055894</td>\n",
       "      <td>-28.98</td>\n",
       "      <td>13.20</td>\n",
       "      <td>20.04</td>\n",
       "      <td>1</td>\n",
       "    </tr>\n",
       "    <tr>\n",
       "      <th>4</th>\n",
       "      <td>12.2580</td>\n",
       "      <td>-2.9284</td>\n",
       "      <td>-2.942000</td>\n",
       "      <td>-0.011606</td>\n",
       "      <td>-0.47342</td>\n",
       "      <td>-0.088881</td>\n",
       "      <td>-28.98</td>\n",
       "      <td>13.68</td>\n",
       "      <td>19.56</td>\n",
       "      <td>1</td>\n",
       "    </tr>\n",
       "    <tr>\n",
       "      <th>...</th>\n",
       "      <td>...</td>\n",
       "      <td>...</td>\n",
       "      <td>...</td>\n",
       "      <td>...</td>\n",
       "      <td>...</td>\n",
       "      <td>...</td>\n",
       "      <td>...</td>\n",
       "      <td>...</td>\n",
       "      <td>...</td>\n",
       "      <td>...</td>\n",
       "    </tr>\n",
       "    <tr>\n",
       "      <th>3149995</th>\n",
       "      <td>3.7728</td>\n",
       "      <td>-4.6445</td>\n",
       "      <td>-0.994290</td>\n",
       "      <td>0.378430</td>\n",
       "      <td>-0.17837</td>\n",
       "      <td>-0.659430</td>\n",
       "      <td>-17.28</td>\n",
       "      <td>24.84</td>\n",
       "      <td>-8.64</td>\n",
       "      <td>7</td>\n",
       "    </tr>\n",
       "    <tr>\n",
       "      <th>3149996</th>\n",
       "      <td>3.8409</td>\n",
       "      <td>-4.7671</td>\n",
       "      <td>-1.103200</td>\n",
       "      <td>0.436460</td>\n",
       "      <td>-0.42302</td>\n",
       "      <td>-0.562300</td>\n",
       "      <td>-17.40</td>\n",
       "      <td>24.72</td>\n",
       "      <td>-8.94</td>\n",
       "      <td>7</td>\n",
       "    </tr>\n",
       "    <tr>\n",
       "      <th>3149997</th>\n",
       "      <td>4.0044</td>\n",
       "      <td>-5.4073</td>\n",
       "      <td>-1.280300</td>\n",
       "      <td>0.453870</td>\n",
       "      <td>-0.64874</td>\n",
       "      <td>-0.423020</td>\n",
       "      <td>-17.70</td>\n",
       "      <td>24.54</td>\n",
       "      <td>-9.00</td>\n",
       "      <td>7</td>\n",
       "    </tr>\n",
       "    <tr>\n",
       "      <th>3149998</th>\n",
       "      <td>4.0589</td>\n",
       "      <td>-5.7478</td>\n",
       "      <td>-1.362000</td>\n",
       "      <td>0.431880</td>\n",
       "      <td>-0.81948</td>\n",
       "      <td>-0.292600</td>\n",
       "      <td>-17.94</td>\n",
       "      <td>24.48</td>\n",
       "      <td>-9.18</td>\n",
       "      <td>7</td>\n",
       "    </tr>\n",
       "    <tr>\n",
       "      <th>3149999</th>\n",
       "      <td>3.9771</td>\n",
       "      <td>-6.4288</td>\n",
       "      <td>-1.457400</td>\n",
       "      <td>0.321010</td>\n",
       "      <td>-0.99693</td>\n",
       "      <td>-0.199140</td>\n",
       "      <td>-18.66</td>\n",
       "      <td>24.06</td>\n",
       "      <td>-9.30</td>\n",
       "      <td>7</td>\n",
       "    </tr>\n",
       "  </tbody>\n",
       "</table>\n",
       "<p>3150000 rows × 10 columns</p>\n",
       "</div>"
      ],
      "text/plain": [
       "              Ax      Ay        Az        Gx       Gy        Gz     Mx     My  \\\n",
       "0         9.3436 -3.2416  1.089600  0.830170  0.15302 -0.032681 -28.98  11.94   \n",
       "1        11.3460 -3.5413  0.027241  0.677760  0.16646 -0.094990 -28.92  12.66   \n",
       "2        14.2200 -4.7126  0.354130  0.265420  0.32590 -0.045509 -29.04  12.90   \n",
       "3        14.4510 -4.6582  0.354130 -0.009163  0.22388 -0.055894 -28.98  13.20   \n",
       "4        12.2580 -2.9284 -2.942000 -0.011606 -0.47342 -0.088881 -28.98  13.68   \n",
       "...          ...     ...       ...       ...      ...       ...    ...    ...   \n",
       "3149995   3.7728 -4.6445 -0.994290  0.378430 -0.17837 -0.659430 -17.28  24.84   \n",
       "3149996   3.8409 -4.7671 -1.103200  0.436460 -0.42302 -0.562300 -17.40  24.72   \n",
       "3149997   4.0044 -5.4073 -1.280300  0.453870 -0.64874 -0.423020 -17.70  24.54   \n",
       "3149998   4.0589 -5.7478 -1.362000  0.431880 -0.81948 -0.292600 -17.94  24.48   \n",
       "3149999   3.9771 -6.4288 -1.457400  0.321010 -0.99693 -0.199140 -18.66  24.06   \n",
       "\n",
       "            Mz  Activity  \n",
       "0        20.46         1  \n",
       "1        20.34         1  \n",
       "2        20.16         1  \n",
       "3        20.04         1  \n",
       "4        19.56         1  \n",
       "...        ...       ...  \n",
       "3149995  -8.64         7  \n",
       "3149996  -8.94         7  \n",
       "3149997  -9.00         7  \n",
       "3149998  -9.18         7  \n",
       "3149999  -9.30         7  \n",
       "\n",
       "[3150000 rows x 10 columns]"
      ]
     },
     "execution_count": 2,
     "metadata": {},
     "output_type": "execute_result"
    }
   ],
   "source": [
    "progress = tqdm(total=50)\n",
    "df = pd.DataFrame()\n",
    "for position in [\"Belt\", \"Left-Pocket\", \"Right-Pocket\", \"Upper-Arm\", \"Wrist\"]:\n",
    "    for i in range(10, 0, -1):\n",
    "        # print(f\"{position} Participant {i}\")\n",
    "        url = f\"/kaggle/input/utwente-shoaib/{position}/Participant_{i}.csv/Participant_{i}.csv\"\n",
    "        p_df = pd.read_csv(url)\n",
    "        \n",
    "        df = pd.concat([df, p_df])\n",
    "        progress.update(1)\n",
    "df = df.reset_index(drop=True)\n",
    "progress.close()\n",
    "\n",
    "feature_cols = ['Ax','Ay','Az','Gx','Gy','Gz']\n",
    "X_raw = df[feature_cols].values\n",
    "y_raw = df['Activity'].values.astype(int)\n",
    "\n",
    "df"
   ]
  },
  {
   "cell_type": "markdown",
   "id": "f496a218",
   "metadata": {
    "papermill": {
     "duration": 0.003962,
     "end_time": "2025-10-25T17:54:18.916064",
     "exception": false,
     "start_time": "2025-10-25T17:54:18.912102",
     "status": "completed"
    },
    "tags": []
   },
   "source": [
    "# Encode labels"
   ]
  },
  {
   "cell_type": "code",
   "execution_count": 3,
   "id": "eb25d3e8",
   "metadata": {
    "execution": {
     "iopub.execute_input": "2025-10-25T17:54:18.925706Z",
     "iopub.status.busy": "2025-10-25T17:54:18.925345Z",
     "iopub.status.idle": "2025-10-25T17:54:19.251498Z",
     "shell.execute_reply": "2025-10-25T17:54:19.250516Z"
    },
    "papermill": {
     "duration": 0.333134,
     "end_time": "2025-10-25T17:54:19.253421",
     "exception": false,
     "start_time": "2025-10-25T17:54:18.920287",
     "status": "completed"
    },
    "tags": []
   },
   "outputs": [],
   "source": [
    "encoder = LabelEncoder()\n",
    "y_encoded = encoder.fit_transform(y_raw)\n",
    "y_onehot = to_categorical(y_encoded)"
   ]
  },
  {
   "cell_type": "markdown",
   "id": "7631b582",
   "metadata": {
    "papermill": {
     "duration": 0.003853,
     "end_time": "2025-10-25T17:54:19.261582",
     "exception": false,
     "start_time": "2025-10-25T17:54:19.257729",
     "status": "completed"
    },
    "tags": []
   },
   "source": [
    "# Sliding windows"
   ]
  },
  {
   "cell_type": "code",
   "execution_count": 4,
   "id": "6b937bb0",
   "metadata": {
    "execution": {
     "iopub.execute_input": "2025-10-25T17:54:19.271331Z",
     "iopub.status.busy": "2025-10-25T17:54:19.270600Z",
     "iopub.status.idle": "2025-10-25T17:54:19.597663Z",
     "shell.execute_reply": "2025-10-25T17:54:19.596651Z"
    },
    "papermill": {
     "duration": 0.333926,
     "end_time": "2025-10-25T17:54:19.599483",
     "exception": false,
     "start_time": "2025-10-25T17:54:19.265557",
     "status": "completed"
    },
    "tags": []
   },
   "outputs": [],
   "source": [
    "def create_windows(X, y, window_size=128, step_size=64):\n",
    "    X_windows = []\n",
    "    y_windows = []\n",
    "    for start in range(0, len(X) - window_size + 1, step_size):\n",
    "        end = start + window_size\n",
    "        X_windows.append(X[start:end])\n",
    "        # Majority vote label in window\n",
    "        y_windows.append(np.bincount(y_encoded[start:end]).argmax())\n",
    "    return np.array(X_windows), np.array(y_windows)\n",
    "\n",
    "window_size = 128\n",
    "step_size = 64\n",
    "X_win, y_win = create_windows(X_raw, y_onehot, window_size, step_size)\n",
    "y_win_onehot = to_categorical(y_win)"
   ]
  },
  {
   "cell_type": "markdown",
   "id": "0dbb2ea3",
   "metadata": {
    "papermill": {
     "duration": 0.004006,
     "end_time": "2025-10-25T17:54:19.607754",
     "exception": false,
     "start_time": "2025-10-25T17:54:19.603748",
     "status": "completed"
    },
    "tags": []
   },
   "source": [
    "# Train/test/val split"
   ]
  },
  {
   "cell_type": "code",
   "execution_count": 5,
   "id": "9ffa3edc",
   "metadata": {
    "execution": {
     "iopub.execute_input": "2025-10-25T17:54:19.617081Z",
     "iopub.status.busy": "2025-10-25T17:54:19.616739Z",
     "iopub.status.idle": "2025-10-25T17:54:19.926597Z",
     "shell.execute_reply": "2025-10-25T17:54:19.925557Z"
    },
    "papermill": {
     "duration": 0.316846,
     "end_time": "2025-10-25T17:54:19.928672",
     "exception": false,
     "start_time": "2025-10-25T17:54:19.611826",
     "status": "completed"
    },
    "tags": []
   },
   "outputs": [],
   "source": [
    "X_train, X_val, y_train, y_val = train_test_split(\n",
    "    X_win, y_win_onehot, test_size=0.2, random_state=42, stratify=y_win\n",
    ")\n",
    "\n",
    "X_train, X_test, y_train, y_test = train_test_split(\n",
    "    X_train, y_train, test_size=0.25, random_state=42, stratify=np.argmax(y_train, axis=1)\n",
    ")"
   ]
  },
  {
   "cell_type": "markdown",
   "id": "c65ce26f",
   "metadata": {
    "papermill": {
     "duration": 0.003934,
     "end_time": "2025-10-25T17:54:19.936838",
     "exception": false,
     "start_time": "2025-10-25T17:54:19.932904",
     "status": "completed"
    },
    "tags": []
   },
   "source": [
    "# Prepare tf.data for GPU"
   ]
  },
  {
   "cell_type": "code",
   "execution_count": 6,
   "id": "2ed265cb",
   "metadata": {
    "execution": {
     "iopub.execute_input": "2025-10-25T17:54:19.948091Z",
     "iopub.status.busy": "2025-10-25T17:54:19.946954Z",
     "iopub.status.idle": "2025-10-25T17:54:20.458525Z",
     "shell.execute_reply": "2025-10-25T17:54:20.457452Z"
    },
    "papermill": {
     "duration": 0.518993,
     "end_time": "2025-10-25T17:54:20.460105",
     "exception": false,
     "start_time": "2025-10-25T17:54:19.941112",
     "status": "completed"
    },
    "tags": []
   },
   "outputs": [
    {
     "name": "stderr",
     "output_type": "stream",
     "text": [
      "2025-10-25 17:54:20.022696: E external/local_xla/xla/stream_executor/cuda/cuda_driver.cc:152] failed call to cuInit: INTERNAL: CUDA error: Failed call to cuInit: UNKNOWN ERROR (303)\n"
     ]
    }
   ],
   "source": [
    "batch_size = 512\n",
    "\n",
    "train_dataset = tf.data.Dataset.from_tensor_slices((X_train, y_train))\n",
    "train_dataset = train_dataset.shuffle(2048).batch(batch_size).prefetch(tf.data.AUTOTUNE)\n",
    "\n",
    "val_dataset = tf.data.Dataset.from_tensor_slices((X_val, y_val))\n",
    "val_dataset = val_dataset.batch(batch_size).prefetch(tf.data.AUTOTUNE)\n",
    "\n",
    "test_dataset = tf.data.Dataset.from_tensor_slices((X_test, y_test))\n",
    "test_dataset = test_dataset.batch(batch_size).prefetch(tf.data.AUTOTUNE)"
   ]
  },
  {
   "cell_type": "markdown",
   "id": "47fc993c",
   "metadata": {
    "papermill": {
     "duration": 0.003879,
     "end_time": "2025-10-25T17:54:20.468306",
     "exception": false,
     "start_time": "2025-10-25T17:54:20.464427",
     "status": "completed"
    },
    "tags": []
   },
   "source": [
    "# Build GRU model"
   ]
  },
  {
   "cell_type": "code",
   "execution_count": 7,
   "id": "ce03051f",
   "metadata": {
    "execution": {
     "iopub.execute_input": "2025-10-25T17:54:20.477255Z",
     "iopub.status.busy": "2025-10-25T17:54:20.476946Z",
     "iopub.status.idle": "2025-10-25T17:54:20.589619Z",
     "shell.execute_reply": "2025-10-25T17:54:20.588784Z"
    },
    "papermill": {
     "duration": 0.118897,
     "end_time": "2025-10-25T17:54:20.591075",
     "exception": false,
     "start_time": "2025-10-25T17:54:20.472178",
     "status": "completed"
    },
    "tags": []
   },
   "outputs": [
    {
     "data": {
      "text/html": [
       "<pre style=\"white-space:pre;overflow-x:auto;line-height:normal;font-family:Menlo,'DejaVu Sans Mono',consolas,'Courier New',monospace\"><span style=\"font-weight: bold\">Model: \"sequential\"</span>\n",
       "</pre>\n"
      ],
      "text/plain": [
       "\u001b[1mModel: \"sequential\"\u001b[0m\n"
      ]
     },
     "metadata": {},
     "output_type": "display_data"
    },
    {
     "data": {
      "text/html": [
       "<pre style=\"white-space:pre;overflow-x:auto;line-height:normal;font-family:Menlo,'DejaVu Sans Mono',consolas,'Courier New',monospace\">┏━━━━━━━━━━━━━━━━━━━━━━━━━━━━━━━━━┳━━━━━━━━━━━━━━━━━━━━━━━━┳━━━━━━━━━━━━━━━┓\n",
       "┃<span style=\"font-weight: bold\"> Layer (type)                    </span>┃<span style=\"font-weight: bold\"> Output Shape           </span>┃<span style=\"font-weight: bold\">       Param # </span>┃\n",
       "┡━━━━━━━━━━━━━━━━━━━━━━━━━━━━━━━━━╇━━━━━━━━━━━━━━━━━━━━━━━━╇━━━━━━━━━━━━━━━┩\n",
       "│ gru (<span style=\"color: #0087ff; text-decoration-color: #0087ff\">GRU</span>)                       │ (<span style=\"color: #00d7ff; text-decoration-color: #00d7ff\">None</span>, <span style=\"color: #00af00; text-decoration-color: #00af00\">64</span>)             │        <span style=\"color: #00af00; text-decoration-color: #00af00\">13,824</span> │\n",
       "├─────────────────────────────────┼────────────────────────┼───────────────┤\n",
       "│ dropout (<span style=\"color: #0087ff; text-decoration-color: #0087ff\">Dropout</span>)               │ (<span style=\"color: #00d7ff; text-decoration-color: #00d7ff\">None</span>, <span style=\"color: #00af00; text-decoration-color: #00af00\">64</span>)             │             <span style=\"color: #00af00; text-decoration-color: #00af00\">0</span> │\n",
       "├─────────────────────────────────┼────────────────────────┼───────────────┤\n",
       "│ dense (<span style=\"color: #0087ff; text-decoration-color: #0087ff\">Dense</span>)                   │ (<span style=\"color: #00d7ff; text-decoration-color: #00d7ff\">None</span>, <span style=\"color: #00af00; text-decoration-color: #00af00\">32</span>)             │         <span style=\"color: #00af00; text-decoration-color: #00af00\">2,080</span> │\n",
       "├─────────────────────────────────┼────────────────────────┼───────────────┤\n",
       "│ dense_1 (<span style=\"color: #0087ff; text-decoration-color: #0087ff\">Dense</span>)                 │ (<span style=\"color: #00d7ff; text-decoration-color: #00d7ff\">None</span>, <span style=\"color: #00af00; text-decoration-color: #00af00\">7</span>)              │           <span style=\"color: #00af00; text-decoration-color: #00af00\">231</span> │\n",
       "└─────────────────────────────────┴────────────────────────┴───────────────┘\n",
       "</pre>\n"
      ],
      "text/plain": [
       "┏━━━━━━━━━━━━━━━━━━━━━━━━━━━━━━━━━┳━━━━━━━━━━━━━━━━━━━━━━━━┳━━━━━━━━━━━━━━━┓\n",
       "┃\u001b[1m \u001b[0m\u001b[1mLayer (type)                   \u001b[0m\u001b[1m \u001b[0m┃\u001b[1m \u001b[0m\u001b[1mOutput Shape          \u001b[0m\u001b[1m \u001b[0m┃\u001b[1m \u001b[0m\u001b[1m      Param #\u001b[0m\u001b[1m \u001b[0m┃\n",
       "┡━━━━━━━━━━━━━━━━━━━━━━━━━━━━━━━━━╇━━━━━━━━━━━━━━━━━━━━━━━━╇━━━━━━━━━━━━━━━┩\n",
       "│ gru (\u001b[38;5;33mGRU\u001b[0m)                       │ (\u001b[38;5;45mNone\u001b[0m, \u001b[38;5;34m64\u001b[0m)             │        \u001b[38;5;34m13,824\u001b[0m │\n",
       "├─────────────────────────────────┼────────────────────────┼───────────────┤\n",
       "│ dropout (\u001b[38;5;33mDropout\u001b[0m)               │ (\u001b[38;5;45mNone\u001b[0m, \u001b[38;5;34m64\u001b[0m)             │             \u001b[38;5;34m0\u001b[0m │\n",
       "├─────────────────────────────────┼────────────────────────┼───────────────┤\n",
       "│ dense (\u001b[38;5;33mDense\u001b[0m)                   │ (\u001b[38;5;45mNone\u001b[0m, \u001b[38;5;34m32\u001b[0m)             │         \u001b[38;5;34m2,080\u001b[0m │\n",
       "├─────────────────────────────────┼────────────────────────┼───────────────┤\n",
       "│ dense_1 (\u001b[38;5;33mDense\u001b[0m)                 │ (\u001b[38;5;45mNone\u001b[0m, \u001b[38;5;34m7\u001b[0m)              │           \u001b[38;5;34m231\u001b[0m │\n",
       "└─────────────────────────────────┴────────────────────────┴───────────────┘\n"
      ]
     },
     "metadata": {},
     "output_type": "display_data"
    },
    {
     "data": {
      "text/html": [
       "<pre style=\"white-space:pre;overflow-x:auto;line-height:normal;font-family:Menlo,'DejaVu Sans Mono',consolas,'Courier New',monospace\"><span style=\"font-weight: bold\"> Total params: </span><span style=\"color: #00af00; text-decoration-color: #00af00\">16,135</span> (63.03 KB)\n",
       "</pre>\n"
      ],
      "text/plain": [
       "\u001b[1m Total params: \u001b[0m\u001b[38;5;34m16,135\u001b[0m (63.03 KB)\n"
      ]
     },
     "metadata": {},
     "output_type": "display_data"
    },
    {
     "data": {
      "text/html": [
       "<pre style=\"white-space:pre;overflow-x:auto;line-height:normal;font-family:Menlo,'DejaVu Sans Mono',consolas,'Courier New',monospace\"><span style=\"font-weight: bold\"> Trainable params: </span><span style=\"color: #00af00; text-decoration-color: #00af00\">16,135</span> (63.03 KB)\n",
       "</pre>\n"
      ],
      "text/plain": [
       "\u001b[1m Trainable params: \u001b[0m\u001b[38;5;34m16,135\u001b[0m (63.03 KB)\n"
      ]
     },
     "metadata": {},
     "output_type": "display_data"
    },
    {
     "data": {
      "text/html": [
       "<pre style=\"white-space:pre;overflow-x:auto;line-height:normal;font-family:Menlo,'DejaVu Sans Mono',consolas,'Courier New',monospace\"><span style=\"font-weight: bold\"> Non-trainable params: </span><span style=\"color: #00af00; text-decoration-color: #00af00\">0</span> (0.00 B)\n",
       "</pre>\n"
      ],
      "text/plain": [
       "\u001b[1m Non-trainable params: \u001b[0m\u001b[38;5;34m0\u001b[0m (0.00 B)\n"
      ]
     },
     "metadata": {},
     "output_type": "display_data"
    }
   ],
   "source": [
    "model = Sequential([\n",
    "    Input(shape=(window_size, len(feature_cols))),\n",
    "    # Bidirectional(GRU(64, return_sequences=True)),\n",
    "    # LayerNormalization(),\n",
    "    # Bidirectional(GRU(32)),\n",
    "    GRU(64),\n",
    "    Dropout(0.6), # Regularization\n",
    "    # No Flatten needed as LSTM returns a vector (the output of the last cell)\n",
    "    Dense(32, activation='relu'),\n",
    "    Dense(y_win_onehot.shape[1], activation='softmax')\n",
    "])\n",
    "\n",
    "optimizer = RMSprop(learning_rate=0.001)\n",
    "model.compile(optimizer=optimizer, loss='categorical_crossentropy', metrics=['accuracy'])\n",
    "model.summary()"
   ]
  },
  {
   "cell_type": "markdown",
   "id": "1f976048",
   "metadata": {
    "papermill": {
     "duration": 0.004493,
     "end_time": "2025-10-25T17:54:20.600402",
     "exception": false,
     "start_time": "2025-10-25T17:54:20.595909",
     "status": "completed"
    },
    "tags": []
   },
   "source": [
    "# Train model"
   ]
  },
  {
   "cell_type": "code",
   "execution_count": 8,
   "id": "6e62e44e",
   "metadata": {
    "execution": {
     "iopub.execute_input": "2025-10-25T17:54:20.611060Z",
     "iopub.status.busy": "2025-10-25T17:54:20.610741Z",
     "iopub.status.idle": "2025-10-25T18:09:27.087982Z",
     "shell.execute_reply": "2025-10-25T18:09:27.086892Z"
    },
    "papermill": {
     "duration": 906.484602,
     "end_time": "2025-10-25T18:09:27.089702",
     "exception": false,
     "start_time": "2025-10-25T17:54:20.605100",
     "status": "completed"
    },
    "tags": []
   },
   "outputs": [
    {
     "name": "stdout",
     "output_type": "stream",
     "text": [
      "Epoch 1/50\n",
      "\u001b[1m58/58\u001b[0m \u001b[32m━━━━━━━━━━━━━━━━━━━━\u001b[0m\u001b[37m\u001b[0m \u001b[1m22s\u001b[0m 321ms/step - accuracy: 0.2673 - loss: 1.8374 - val_accuracy: 0.4874 - val_loss: 1.2434\n",
      "Epoch 2/50\n",
      "\u001b[1m58/58\u001b[0m \u001b[32m━━━━━━━━━━━━━━━━━━━━\u001b[0m\u001b[37m\u001b[0m \u001b[1m18s\u001b[0m 307ms/step - accuracy: 0.4840 - loss: 1.2750 - val_accuracy: 0.6041 - val_loss: 0.9634\n",
      "Epoch 3/50\n",
      "\u001b[1m58/58\u001b[0m \u001b[32m━━━━━━━━━━━━━━━━━━━━\u001b[0m\u001b[37m\u001b[0m \u001b[1m18s\u001b[0m 303ms/step - accuracy: 0.6006 - loss: 0.9896 - val_accuracy: 0.7175 - val_loss: 0.6959\n",
      "Epoch 4/50\n",
      "\u001b[1m58/58\u001b[0m \u001b[32m━━━━━━━━━━━━━━━━━━━━\u001b[0m\u001b[37m\u001b[0m \u001b[1m18s\u001b[0m 302ms/step - accuracy: 0.6849 - loss: 0.7808 - val_accuracy: 0.7819 - val_loss: 0.5649\n",
      "Epoch 5/50\n",
      "\u001b[1m58/58\u001b[0m \u001b[32m━━━━━━━━━━━━━━━━━━━━\u001b[0m\u001b[37m\u001b[0m \u001b[1m21s\u001b[0m 307ms/step - accuracy: 0.7410 - loss: 0.6417 - val_accuracy: 0.8212 - val_loss: 0.4627\n",
      "Epoch 6/50\n",
      "\u001b[1m58/58\u001b[0m \u001b[32m━━━━━━━━━━━━━━━━━━━━\u001b[0m\u001b[37m\u001b[0m \u001b[1m17s\u001b[0m 301ms/step - accuracy: 0.7865 - loss: 0.5446 - val_accuracy: 0.8403 - val_loss: 0.4214\n",
      "Epoch 7/50\n",
      "\u001b[1m58/58\u001b[0m \u001b[32m━━━━━━━━━━━━━━━━━━━━\u001b[0m\u001b[37m\u001b[0m \u001b[1m18s\u001b[0m 308ms/step - accuracy: 0.8196 - loss: 0.4689 - val_accuracy: 0.8440 - val_loss: 0.4129\n",
      "Epoch 8/50\n",
      "\u001b[1m58/58\u001b[0m \u001b[32m━━━━━━━━━━━━━━━━━━━━\u001b[0m\u001b[37m\u001b[0m \u001b[1m18s\u001b[0m 307ms/step - accuracy: 0.8380 - loss: 0.4355 - val_accuracy: 0.8836 - val_loss: 0.3100\n",
      "Epoch 9/50\n",
      "\u001b[1m58/58\u001b[0m \u001b[32m━━━━━━━━━━━━━━━━━━━━\u001b[0m\u001b[37m\u001b[0m \u001b[1m18s\u001b[0m 310ms/step - accuracy: 0.8532 - loss: 0.3942 - val_accuracy: 0.8893 - val_loss: 0.2894\n",
      "Epoch 10/50\n",
      "\u001b[1m58/58\u001b[0m \u001b[32m━━━━━━━━━━━━━━━━━━━━\u001b[0m\u001b[37m\u001b[0m \u001b[1m18s\u001b[0m 317ms/step - accuracy: 0.8675 - loss: 0.3743 - val_accuracy: 0.9146 - val_loss: 0.2446\n",
      "Epoch 11/50\n",
      "\u001b[1m58/58\u001b[0m \u001b[32m━━━━━━━━━━━━━━━━━━━━\u001b[0m\u001b[37m\u001b[0m \u001b[1m18s\u001b[0m 314ms/step - accuracy: 0.8787 - loss: 0.3430 - val_accuracy: 0.9273 - val_loss: 0.2276\n",
      "Epoch 12/50\n",
      "\u001b[1m58/58\u001b[0m \u001b[32m━━━━━━━━━━━━━━━━━━━━\u001b[0m\u001b[37m\u001b[0m \u001b[1m18s\u001b[0m 312ms/step - accuracy: 0.8874 - loss: 0.3226 - val_accuracy: 0.9237 - val_loss: 0.2318\n",
      "Epoch 13/50\n",
      "\u001b[1m58/58\u001b[0m \u001b[32m━━━━━━━━━━━━━━━━━━━━\u001b[0m\u001b[37m\u001b[0m \u001b[1m18s\u001b[0m 308ms/step - accuracy: 0.8972 - loss: 0.3014 - val_accuracy: 0.9295 - val_loss: 0.2171\n",
      "Epoch 14/50\n",
      "\u001b[1m58/58\u001b[0m \u001b[32m━━━━━━━━━━━━━━━━━━━━\u001b[0m\u001b[37m\u001b[0m \u001b[1m18s\u001b[0m 311ms/step - accuracy: 0.9097 - loss: 0.2780 - val_accuracy: 0.9074 - val_loss: 0.2706\n",
      "Epoch 15/50\n",
      "\u001b[1m58/58\u001b[0m \u001b[32m━━━━━━━━━━━━━━━━━━━━\u001b[0m\u001b[37m\u001b[0m \u001b[1m18s\u001b[0m 311ms/step - accuracy: 0.9128 - loss: 0.2652 - val_accuracy: 0.9402 - val_loss: 0.1982\n",
      "Epoch 16/50\n",
      "\u001b[1m58/58\u001b[0m \u001b[32m━━━━━━━━━━━━━━━━━━━━\u001b[0m\u001b[37m\u001b[0m \u001b[1m18s\u001b[0m 318ms/step - accuracy: 0.9207 - loss: 0.2524 - val_accuracy: 0.9503 - val_loss: 0.1684\n",
      "Epoch 17/50\n",
      "\u001b[1m58/58\u001b[0m \u001b[32m━━━━━━━━━━━━━━━━━━━━\u001b[0m\u001b[37m\u001b[0m \u001b[1m18s\u001b[0m 313ms/step - accuracy: 0.9244 - loss: 0.2355 - val_accuracy: 0.9547 - val_loss: 0.1558\n",
      "Epoch 18/50\n",
      "\u001b[1m58/58\u001b[0m \u001b[32m━━━━━━━━━━━━━━━━━━━━\u001b[0m\u001b[37m\u001b[0m \u001b[1m18s\u001b[0m 317ms/step - accuracy: 0.9295 - loss: 0.2283 - val_accuracy: 0.9257 - val_loss: 0.2126\n",
      "Epoch 19/50\n",
      "\u001b[1m58/58\u001b[0m \u001b[32m━━━━━━━━━━━━━━━━━━━━\u001b[0m\u001b[37m\u001b[0m \u001b[1m18s\u001b[0m 317ms/step - accuracy: 0.9345 - loss: 0.2141 - val_accuracy: 0.9534 - val_loss: 0.1493\n",
      "Epoch 20/50\n",
      "\u001b[1m58/58\u001b[0m \u001b[32m━━━━━━━━━━━━━━━━━━━━\u001b[0m\u001b[37m\u001b[0m \u001b[1m18s\u001b[0m 308ms/step - accuracy: 0.9357 - loss: 0.2058 - val_accuracy: 0.9541 - val_loss: 0.1551\n",
      "Epoch 21/50\n",
      "\u001b[1m58/58\u001b[0m \u001b[32m━━━━━━━━━━━━━━━━━━━━\u001b[0m\u001b[37m\u001b[0m \u001b[1m18s\u001b[0m 305ms/step - accuracy: 0.9439 - loss: 0.1911 - val_accuracy: 0.9600 - val_loss: 0.1363\n",
      "Epoch 22/50\n",
      "\u001b[1m58/58\u001b[0m \u001b[32m━━━━━━━━━━━━━━━━━━━━\u001b[0m\u001b[37m\u001b[0m \u001b[1m18s\u001b[0m 305ms/step - accuracy: 0.9461 - loss: 0.1875 - val_accuracy: 0.9563 - val_loss: 0.1475\n",
      "Epoch 23/50\n",
      "\u001b[1m58/58\u001b[0m \u001b[32m━━━━━━━━━━━━━━━━━━━━\u001b[0m\u001b[37m\u001b[0m \u001b[1m18s\u001b[0m 310ms/step - accuracy: 0.9463 - loss: 0.1805 - val_accuracy: 0.9653 - val_loss: 0.1253\n",
      "Epoch 24/50\n",
      "\u001b[1m58/58\u001b[0m \u001b[32m━━━━━━━━━━━━━━━━━━━━\u001b[0m\u001b[37m\u001b[0m \u001b[1m18s\u001b[0m 308ms/step - accuracy: 0.9463 - loss: 0.1830 - val_accuracy: 0.9489 - val_loss: 0.1532\n",
      "Epoch 25/50\n",
      "\u001b[1m58/58\u001b[0m \u001b[32m━━━━━━━━━━━━━━━━━━━━\u001b[0m\u001b[37m\u001b[0m \u001b[1m18s\u001b[0m 309ms/step - accuracy: 0.9506 - loss: 0.1688 - val_accuracy: 0.9376 - val_loss: 0.2011\n",
      "Epoch 26/50\n",
      "\u001b[1m58/58\u001b[0m \u001b[32m━━━━━━━━━━━━━━━━━━━━\u001b[0m\u001b[37m\u001b[0m \u001b[1m18s\u001b[0m 308ms/step - accuracy: 0.9515 - loss: 0.1690 - val_accuracy: 0.9598 - val_loss: 0.1256\n",
      "Epoch 27/50\n",
      "\u001b[1m58/58\u001b[0m \u001b[32m━━━━━━━━━━━━━━━━━━━━\u001b[0m\u001b[37m\u001b[0m \u001b[1m18s\u001b[0m 308ms/step - accuracy: 0.9543 - loss: 0.1614 - val_accuracy: 0.9646 - val_loss: 0.1307\n",
      "Epoch 28/50\n",
      "\u001b[1m58/58\u001b[0m \u001b[32m━━━━━━━━━━━━━━━━━━━━\u001b[0m\u001b[37m\u001b[0m \u001b[1m18s\u001b[0m 305ms/step - accuracy: 0.9569 - loss: 0.1546 - val_accuracy: 0.9679 - val_loss: 0.1198\n",
      "Epoch 29/50\n",
      "\u001b[1m58/58\u001b[0m \u001b[32m━━━━━━━━━━━━━━━━━━━━\u001b[0m\u001b[37m\u001b[0m \u001b[1m18s\u001b[0m 309ms/step - accuracy: 0.9609 - loss: 0.1379 - val_accuracy: 0.9674 - val_loss: 0.1226\n",
      "Epoch 30/50\n",
      "\u001b[1m58/58\u001b[0m \u001b[32m━━━━━━━━━━━━━━━━━━━━\u001b[0m\u001b[37m\u001b[0m \u001b[1m18s\u001b[0m 311ms/step - accuracy: 0.9608 - loss: 0.1438 - val_accuracy: 0.9696 - val_loss: 0.1146\n",
      "Epoch 31/50\n",
      "\u001b[1m58/58\u001b[0m \u001b[32m━━━━━━━━━━━━━━━━━━━━\u001b[0m\u001b[37m\u001b[0m \u001b[1m18s\u001b[0m 313ms/step - accuracy: 0.9611 - loss: 0.1390 - val_accuracy: 0.9684 - val_loss: 0.1175\n",
      "Epoch 32/50\n",
      "\u001b[1m58/58\u001b[0m \u001b[32m━━━━━━━━━━━━━━━━━━━━\u001b[0m\u001b[37m\u001b[0m \u001b[1m18s\u001b[0m 311ms/step - accuracy: 0.9625 - loss: 0.1330 - val_accuracy: 0.9703 - val_loss: 0.1090\n",
      "Epoch 33/50\n",
      "\u001b[1m58/58\u001b[0m \u001b[32m━━━━━━━━━━━━━━━━━━━━\u001b[0m\u001b[37m\u001b[0m \u001b[1m18s\u001b[0m 306ms/step - accuracy: 0.9651 - loss: 0.1259 - val_accuracy: 0.9731 - val_loss: 0.1013\n",
      "Epoch 34/50\n",
      "\u001b[1m58/58\u001b[0m \u001b[32m━━━━━━━━━━━━━━━━━━━━\u001b[0m\u001b[37m\u001b[0m \u001b[1m18s\u001b[0m 308ms/step - accuracy: 0.9653 - loss: 0.1219 - val_accuracy: 0.9748 - val_loss: 0.0951\n",
      "Epoch 35/50\n",
      "\u001b[1m58/58\u001b[0m \u001b[32m━━━━━━━━━━━━━━━━━━━━\u001b[0m\u001b[37m\u001b[0m \u001b[1m18s\u001b[0m 317ms/step - accuracy: 0.9655 - loss: 0.1177 - val_accuracy: 0.9731 - val_loss: 0.1029\n",
      "Epoch 36/50\n",
      "\u001b[1m58/58\u001b[0m \u001b[32m━━━━━━━━━━━━━━━━━━━━\u001b[0m\u001b[37m\u001b[0m \u001b[1m19s\u001b[0m 323ms/step - accuracy: 0.9692 - loss: 0.1148 - val_accuracy: 0.9721 - val_loss: 0.1060\n",
      "Epoch 37/50\n",
      "\u001b[1m58/58\u001b[0m \u001b[32m━━━━━━━━━━━━━━━━━━━━\u001b[0m\u001b[37m\u001b[0m \u001b[1m18s\u001b[0m 311ms/step - accuracy: 0.9699 - loss: 0.1115 - val_accuracy: 0.9673 - val_loss: 0.1161\n",
      "Epoch 38/50\n",
      "\u001b[1m58/58\u001b[0m \u001b[32m━━━━━━━━━━━━━━━━━━━━\u001b[0m\u001b[37m\u001b[0m \u001b[1m18s\u001b[0m 306ms/step - accuracy: 0.9650 - loss: 0.1180 - val_accuracy: 0.9739 - val_loss: 0.0940\n",
      "Epoch 39/50\n",
      "\u001b[1m58/58\u001b[0m \u001b[32m━━━━━━━━━━━━━━━━━━━━\u001b[0m\u001b[37m\u001b[0m \u001b[1m18s\u001b[0m 310ms/step - accuracy: 0.9705 - loss: 0.1091 - val_accuracy: 0.9738 - val_loss: 0.0971\n",
      "Epoch 40/50\n",
      "\u001b[1m58/58\u001b[0m \u001b[32m━━━━━━━━━━━━━━━━━━━━\u001b[0m\u001b[37m\u001b[0m \u001b[1m18s\u001b[0m 308ms/step - accuracy: 0.9723 - loss: 0.1030 - val_accuracy: 0.9745 - val_loss: 0.0987\n",
      "Epoch 41/50\n",
      "\u001b[1m58/58\u001b[0m \u001b[32m━━━━━━━━━━━━━━━━━━━━\u001b[0m\u001b[37m\u001b[0m \u001b[1m18s\u001b[0m 309ms/step - accuracy: 0.9728 - loss: 0.0999 - val_accuracy: 0.9769 - val_loss: 0.0900\n",
      "Epoch 42/50\n",
      "\u001b[1m58/58\u001b[0m \u001b[32m━━━━━━━━━━━━━━━━━━━━\u001b[0m\u001b[37m\u001b[0m \u001b[1m18s\u001b[0m 309ms/step - accuracy: 0.9726 - loss: 0.1012 - val_accuracy: 0.9752 - val_loss: 0.0938\n",
      "Epoch 43/50\n",
      "\u001b[1m58/58\u001b[0m \u001b[32m━━━━━━━━━━━━━━━━━━━━\u001b[0m\u001b[37m\u001b[0m \u001b[1m18s\u001b[0m 310ms/step - accuracy: 0.9735 - loss: 0.0980 - val_accuracy: 0.9754 - val_loss: 0.0960\n",
      "Epoch 44/50\n",
      "\u001b[1m58/58\u001b[0m \u001b[32m━━━━━━━━━━━━━━━━━━━━\u001b[0m\u001b[37m\u001b[0m \u001b[1m18s\u001b[0m 307ms/step - accuracy: 0.9730 - loss: 0.0998 - val_accuracy: 0.9713 - val_loss: 0.1101\n",
      "Epoch 45/50\n",
      "\u001b[1m58/58\u001b[0m \u001b[32m━━━━━━━━━━━━━━━━━━━━\u001b[0m\u001b[37m\u001b[0m \u001b[1m18s\u001b[0m 304ms/step - accuracy: 0.9733 - loss: 0.0996 - val_accuracy: 0.9746 - val_loss: 0.1047\n",
      "Epoch 46/50\n",
      "\u001b[1m58/58\u001b[0m \u001b[32m━━━━━━━━━━━━━━━━━━━━\u001b[0m\u001b[37m\u001b[0m \u001b[1m21s\u001b[0m 312ms/step - accuracy: 0.9738 - loss: 0.0916 - val_accuracy: 0.9791 - val_loss: 0.0810\n",
      "Epoch 47/50\n",
      "\u001b[1m58/58\u001b[0m \u001b[32m━━━━━━━━━━━━━━━━━━━━\u001b[0m\u001b[37m\u001b[0m \u001b[1m18s\u001b[0m 308ms/step - accuracy: 0.9746 - loss: 0.0870 - val_accuracy: 0.9796 - val_loss: 0.0815\n",
      "Epoch 48/50\n",
      "\u001b[1m58/58\u001b[0m \u001b[32m━━━━━━━━━━━━━━━━━━━━\u001b[0m\u001b[37m\u001b[0m \u001b[1m18s\u001b[0m 308ms/step - accuracy: 0.9775 - loss: 0.0797 - val_accuracy: 0.9766 - val_loss: 0.0929\n",
      "Epoch 49/50\n",
      "\u001b[1m58/58\u001b[0m \u001b[32m━━━━━━━━━━━━━━━━━━━━\u001b[0m\u001b[37m\u001b[0m \u001b[1m18s\u001b[0m 306ms/step - accuracy: 0.9748 - loss: 0.0961 - val_accuracy: 0.9775 - val_loss: 0.0900\n",
      "Epoch 50/50\n",
      "\u001b[1m58/58\u001b[0m \u001b[32m━━━━━━━━━━━━━━━━━━━━\u001b[0m\u001b[37m\u001b[0m \u001b[1m18s\u001b[0m 308ms/step - accuracy: 0.9760 - loss: 0.0879 - val_accuracy: 0.9769 - val_loss: 0.0888\n",
      "154.3466796875 KB\n"
     ]
    }
   ],
   "source": [
    "history = model.fit(\n",
    "    train_dataset,\n",
    "    epochs=50,\n",
    "    validation_data=val_dataset\n",
    ")\n",
    "\n",
    "filename = \"/kaggle/working/shoaib_har_gru.keras\"\n",
    "model.save(filename)\n",
    "print(os.path.getsize(filename) / 1024, \"KB\")"
   ]
  },
  {
   "cell_type": "markdown",
   "id": "af636dea",
   "metadata": {
    "papermill": {
     "duration": 0.154907,
     "end_time": "2025-10-25T18:09:27.403720",
     "exception": false,
     "start_time": "2025-10-25T18:09:27.248813",
     "status": "completed"
    },
    "tags": []
   },
   "source": [
    "# Evaluate"
   ]
  },
  {
   "cell_type": "code",
   "execution_count": 9,
   "id": "41d8486b",
   "metadata": {
    "execution": {
     "iopub.execute_input": "2025-10-25T18:09:27.711518Z",
     "iopub.status.busy": "2025-10-25T18:09:27.711149Z",
     "iopub.status.idle": "2025-10-25T18:09:30.795185Z",
     "shell.execute_reply": "2025-10-25T18:09:30.794203Z"
    },
    "papermill": {
     "duration": 3.237624,
     "end_time": "2025-10-25T18:09:30.796899",
     "exception": false,
     "start_time": "2025-10-25T18:09:27.559275",
     "status": "completed"
    },
    "tags": []
   },
   "outputs": [
    {
     "name": "stdout",
     "output_type": "stream",
     "text": [
      "\u001b[1m20/20\u001b[0m \u001b[32m━━━━━━━━━━━━━━━━━━━━\u001b[0m\u001b[37m\u001b[0m \u001b[1m3s\u001b[0m 116ms/step\n",
      "              precision    recall  f1-score   support\n",
      "\n",
      "     walking       0.99      0.94      0.97      1408\n",
      "    standing       0.96      0.98      0.97      1406\n",
      "     jogging       0.99      1.00      1.00      1406\n",
      "     sitting       0.98      0.96      0.97      1406\n",
      "      biking       0.98      0.99      0.98      1407\n",
      "    upstairs       0.95      0.98      0.97      1406\n",
      "  downstairs       0.98      0.99      0.98      1405\n",
      "\n",
      "    accuracy                           0.98      9844\n",
      "   macro avg       0.98      0.98      0.98      9844\n",
      "weighted avg       0.98      0.98      0.98      9844\n",
      "\n"
     ]
    },
    {
     "data": {
      "image/png": "[encoded data removed]",
      "text/plain": [
       "<Figure size 640x480 with 2 Axes>"
      ]
     },
     "metadata": {},
     "output_type": "display_data"
    }
   ],
   "source": [
    "labels = ['walking', 'standing', 'jogging', 'sitting', 'biking', 'upstairs', 'downstairs']\n",
    "y_pred_probs = model.predict(test_dataset)          # probabilities\n",
    "y_pred = np.argmax(y_pred_probs, axis=1)          # predicted labels\n",
    "y_true = np.argmax(y_test, axis=1)                # true labels\n",
    "print(classification_report(y_true, y_pred, target_names=labels))\n",
    "\n",
    "cm = confusion_matrix(y_true, y_pred)\n",
    "cm = cm / cm.sum(axis=1)[:, None]\n",
    "labels = ['walking', 'standing', 'jogging', 'sitting', 'biking', 'upstairs', 'downstairs']\n",
    "sns.heatmap(cm, annot=True, xticklabels=labels, yticklabels=labels, fmt=\".2f\", cmap=\"Blues\")\n",
    "plt.xlabel('Predicted')\n",
    "plt.ylabel('True')\n",
    "plt.title('Confusion Matrix')\n",
    "plt.show()"
   ]
  },
  {
   "cell_type": "markdown",
   "id": "91938931",
   "metadata": {
    "papermill": {
     "duration": 0.155609,
     "end_time": "2025-10-25T18:09:31.107846",
     "exception": false,
     "start_time": "2025-10-25T18:09:30.952237",
     "status": "completed"
    },
    "tags": []
   },
   "source": [
    "# Convert to TFLite"
   ]
  },
  {
   "cell_type": "code",
   "execution_count": 10,
   "id": "9ebf0512",
   "metadata": {
    "execution": {
     "iopub.execute_input": "2025-10-25T18:09:31.418415Z",
     "iopub.status.busy": "2025-10-25T18:09:31.418060Z",
     "iopub.status.idle": "2025-10-25T18:09:35.267235Z",
     "shell.execute_reply": "2025-10-25T18:09:35.265816Z"
    },
    "papermill": {
     "duration": 4.008171,
     "end_time": "2025-10-25T18:09:35.269622",
     "exception": false,
     "start_time": "2025-10-25T18:09:31.261451",
     "status": "completed"
    },
    "tags": []
   },
   "outputs": [
    {
     "name": "stdout",
     "output_type": "stream",
     "text": [
      "Saved artifact at '/tmp/tmpr2ta_l9r'. The following endpoints are available:\n",
      "\n",
      "* Endpoint 'serve'\n",
      "  args_0 (POSITIONAL_ONLY): TensorSpec(shape=(None, 128, 6), dtype=tf.float32, name='keras_tensor')\n",
      "Output Type:\n",
      "  TensorSpec(shape=(None, 7), dtype=tf.float32, name=None)\n",
      "Captures:\n",
      "  132134818179664: TensorSpec(shape=(), dtype=tf.resource, name=None)\n",
      "  132134818178320: TensorSpec(shape=(), dtype=tf.resource, name=None)\n",
      "  132134818178704: TensorSpec(shape=(), dtype=tf.resource, name=None)\n",
      "  132134818179856: TensorSpec(shape=(), dtype=tf.resource, name=None)\n",
      "  132134818179280: TensorSpec(shape=(), dtype=tf.resource, name=None)\n",
      "  132134818180048: TensorSpec(shape=(), dtype=tf.resource, name=None)\n",
      "  132134818177744: TensorSpec(shape=(), dtype=tf.resource, name=None)\n"
     ]
    },
    {
     "name": "stderr",
     "output_type": "stream",
     "text": [
      "/usr/local/lib/python3.11/dist-packages/tensorflow/lite/python/convert.py:997: UserWarning: Statistics for quantized inputs were expected, but not specified; continuing anyway.\n",
      "  warnings.warn(\n",
      "WARNING: All log messages before absl::InitializeLog() is called are written to STDERR\n",
      "W0000 00:00:1761415772.959245      13 tf_tfl_flatbuffer_helpers.cc:365] Ignored output_format.\n",
      "W0000 00:00:1761415772.959324      13 tf_tfl_flatbuffer_helpers.cc:368] Ignored drop_control_dependency.\n",
      "I0000 00:00:1761415772.969511      13 mlir_graph_optimization_pass.cc:401] MLIR V1 optimization pass is not enabled\n",
      "fully_quantize: 0, inference_type: 6, input_inference_type: INT8, output_inference_type: INT8\n"
     ]
    },
    {
     "name": "stdout",
     "output_type": "stream",
     "text": [
      "42.203125 KB\n",
      "=== /kaggle/working/shoaib_har_gru_quant.tflite ===\n",
      "\n",
      "Your TFLite model has '3' subgraph(s). In the subgraph description below,\n",
      "T# represents the Tensor numbers. For example, in Subgraph#0, the SHAPE op takes\n",
      "tensor #0 as input and produces tensor #15 as output.\n",
      "\n",
      "Subgraph#0 main(T#0) -> [T#31]\n",
      "  Op#0 SHAPE(T#0) -> [T#15]\n",
      "  Op#1 STRIDED_SLICE(T#15, T#2[0], T#3[1], T#3[1]) -> [T#16]\n",
      "  Op#2 TRANSPOSE(T#0, T#4[1, 0, 2]) -> [T#17]\n",
      "  Op#3 DEQUANTIZE(T#17) -> [T#18]\n",
      "  Op#4 PACK(T#16, T#5[64]) -> [T#19]\n",
      "  Op#5 FILL(T#19, T#14) -> [T#20]\n",
      "  Op#6 DEQUANTIZE(T#20) -> [T#21]\n",
      "  Op#7 WHILE(T#6[0], T#6[0], T#1, T#21, T#18, Cond: Subgraph#1, Body: Subgraph#2) -> [T#22, T#23, T#24, T#25, T#26]\n",
      "  Op#8 QUANTIZE(T#24) -> [T#27]\n",
      "  Op#9 STRIDED_SLICE(T#27, T#7[-1, 0, 0], T#8[0, 0, 64], T#9[1, 1, 1]) -> [T#28]\n",
      "  Op#10 FULLY_CONNECTED(T#28, T#13, T#12[910, 795, 3818, 7758, -2112, ...]) -> [T#29]\n",
      "  Op#11 FULLY_CONNECTED(T#29, T#11, T#10[-1059, -368, 255, -357, 836, ...]) -> [T#30]\n",
      "  Op#12 SOFTMAX(T#30) -> [T#31]\n",
      "\n",
      "Tensors of Subgraph#0\n",
      "  T#0(serving_default_keras_tensor:0) shape_signature:[-1, 128, 6], type:INT8\n",
      "  T#1(arith.constant) shape:[1, 1, 64], type:FLOAT32 RO 256 bytes, buffer: 2, data:[0, 0, 0, 0, 0, ...]\n",
      "  T#2(arith.constant1) shape:[1], type:INT32 RO 4 bytes, buffer: 3, data:[0]\n",
      "  T#3(arith.constant2) shape:[1], type:INT32 RO 4 bytes, buffer: 4, data:[1]\n",
      "  T#4(arith.constant3) shape:[3], type:INT32 RO 12 bytes, buffer: 5, data:[1, 0, 2]\n",
      "  T#5(arith.constant4) shape:[], type:INT32 RO 4 bytes, buffer: 6, data:[64]\n",
      "  T#6(arith.constant5) shape:[], type:INT32 RO 4 bytes, buffer: 3, data:[0]\n",
      "  T#7(arith.constant6) shape:[3], type:INT32 RO 12 bytes, buffer: 8, data:[-1, 0, 0]\n",
      "  T#8(arith.constant7) shape:[3], type:INT32 RO 12 bytes, buffer: 9, data:[0, 0, 64]\n",
      "  T#9(arith.constant8) shape:[3], type:INT32 RO 12 bytes, buffer: 10, data:[1, 1, 1]\n",
      "  T#10(tfl.pseudo_qconst) shape:[7], type:INT32 RO 28 bytes, buffer: 11, data:[-1059, -368, 255, -357, 836, ...]\n",
      "  T#11(tfl.pseudo_qconst1) shape:[7, 32], type:INT8 RO 224 bytes, buffer: 12, data:[1, ., ., ., (, ...]\n",
      "  T#12(tfl.pseudo_qconst2) shape:[32], type:INT32 RO 128 bytes, buffer: 13, data:[910, 795, 3818, 7758, -2112, ...]\n",
      "  T#13(tfl.pseudo_qconst3) shape:[32, 64], type:INT8 RO 2048 bytes, buffer: 14, data:[D, O, ., ., ., ...]\n",
      "  T#14(tfl.pseudo_qconst4) shape:[], type:INT8 RO 1 bytes, buffer: 15, data:[.]\n",
      "  T#15(sequential_1/gru_1/Shape) shape:[3], type:INT32\n",
      "  T#16(sequential_1/gru_1/strided_slice) shape:[], type:INT32\n",
      "  T#17(sequential_1/gru_1/transpose) shape_signature:[128, -1, 6], type:INT8\n",
      "  T#18(sequential_1/gru_1/transpose1) shape_signature:[128, -1, 6], type:FLOAT32\n",
      "  T#19(sequential_1/gru_1/zeros/packed) shape:[2], type:INT32\n",
      "  T#20(sequential_1/gru_1/zeros) shape_signature:[-1, 64], type:INT8\n",
      "  T#21(tfl.dequantize) shape_signature:[-1, 64], type:FLOAT32\n",
      "  T#22(sequential_1/gru_1/while;sequential_1/gru_1/while1;sequential_1/gru_1/while2;sequential_1/gru_1/while3;sequential_1/gru_1/while4) shape:[], type:INT32\n",
      "  T#23(sequential_1/gru_1/while;sequential_1/gru_1/while1;sequential_1/gru_1/while2;sequential_1/gru_1/while3;sequential_1/gru_1/while41) shape:[], type:INT32\n",
      "  T#24(sequential_1/gru_1/while;sequential_1/gru_1/while1;sequential_1/gru_1/while2;sequential_1/gru_1/while3;sequential_1/gru_1/while42) shape_signature:[1, -1, 64], type:FLOAT32\n",
      "  T#25(sequential_1/gru_1/while;sequential_1/gru_1/while1;sequential_1/gru_1/while2;sequential_1/gru_1/while3;sequential_1/gru_1/while43) shape_signature:[-1, 64], type:FLOAT32\n",
      "  T#26(sequential_1/gru_1/while;sequential_1/gru_1/while1;sequential_1/gru_1/while2;sequential_1/gru_1/while3;sequential_1/gru_1/while44) shape_signature:[128, -1, 6], type:FLOAT32\n",
      "  T#27(tfl.quantize) shape_signature:[1, -1, 64], type:INT8\n",
      "  T#28(sequential_1/gru_1/strided_slice_3) shape_signature:[-1, 64], type:INT8\n",
      "  T#29(sequential_1/dense_1/MatMul;sequential_1/dense_1/Relu;sequential_1/dense_1/BiasAdd) shape_signature:[-1, 32], type:INT8\n",
      "  T#30(sequential_1/dense_1_2/MatMul;sequential_1/dense_1_2/BiasAdd) shape_signature:[-1, 7], type:INT8\n",
      "  T#31(StatefulPartitionedCall_1:0) shape_signature:[-1, 7], type:INT8\n",
      "\n",
      "Subgraph#1 sequential_1/gru_1/while_cond(T#1_0, T#1_1, T#1_2, T#1_3, T#1_4) -> [T#1_8]\n",
      "  Op#0 LESS(T#1_1, T#1_5[128]) -> [T#1_6]\n",
      "  Op#1 LESS(T#1_0, T#1_5[128]) -> [T#1_7]\n",
      "  Op#2 LOGICAL_AND(T#1_7, T#1_6) -> [T#1_8]\n",
      "\n",
      "Tensors of Subgraph#1\n",
      "  T#1_0(sequential_1/gru_1/while_cond_arg0) shape:[], type:INT32\n",
      "  T#1_1(sequential_1/gru_1/while_cond_arg1) shape:[], type:INT32\n",
      "  T#1_2(sequential_1/gru_1/while_cond_arg2) shape_signature:[1, -1, 64], type:FLOAT32\n",
      "  T#1_3(sequential_1/gru_1/while_cond_arg3) shape_signature:[-1, 64], type:FLOAT32\n",
      "  T#1_4(sequential_1/gru_1/while_cond_arg4) shape_signature:[128, -1, 6], type:FLOAT32\n",
      "  T#1_5(arith.constant15) shape:[], type:INT32 RO 4 bytes, buffer: 38, data:[128]\n",
      "  T#1_6(sequential_1/gru_1/while/Less) shape:[], type:BOOL\n",
      "  T#1_7(sequential_1/gru_1/while/Less_1) shape:[], type:BOOL\n",
      "  T#1_8(sequential_1/gru_1/while/LogicalAnd) shape:[], type:BOOL\n",
      "\n",
      "Subgraph#2 sequential_1/gru_1/while_body(T#2_0, T#2_1, T#2_2, T#2_3, T#2_4) -> [T#2_29, T#2_24, T#2_51, T#2_46, T#2_4]\n",
      "  Op#0 QUANTIZE(T#2_2) -> [T#2_21]\n",
      "  Op#1 QUANTIZE(T#2_3) -> [T#2_22]\n",
      "  Op#2 QUANTIZE(T#2_4) -> [T#2_23]\n",
      "  Op#3 ADD(T#2_1, T#2_5[1]) -> [T#2_24]\n",
      "  Op#4 FULLY_CONNECTED(T#2_22, T#2_20, T#2_19[6386, 6818, 1153, 4312, 10041, ...]) -> [T#2_25]\n",
      "  Op#5 STRIDED_SLICE(T#2_25, T#2_6[0, 0], T#2_7[0, 64], T#2_8[1, 1]) -> [T#2_26]\n",
      "  Op#6 STRIDED_SLICE(T#2_25, T#2_7[0, 64], T#2_9[0, 128], T#2_8[1, 1]) -> [T#2_27]\n",
      "  Op#7 STRIDED_SLICE(T#2_25, T#2_9[0, 128], T#2_6[0, 0], T#2_8[1, 1]) -> [T#2_28]\n",
      "  Op#8 ADD(T#2_0, T#2_5[1]) -> [T#2_29]\n",
      "  Op#9 GATHER(T#2_23, T#2_1) -> [T#2_30]\n",
      "  Op#10 FULLY_CONNECTED(T#2_30, T#2_18, T#2_17[262, 410, 103, 472, 395, ...]) -> [T#2_31]\n",
      "  Op#11 SPLIT(T#2_10[-1], T#2_31) -> [T#2_32, T#2_33, T#2_34]\n",
      "  Op#12 ADD(T#2_32, T#2_26) -> [T#2_35]\n",
      "  Op#13 LOGISTIC(T#2_35) -> [T#2_36]\n",
      "  Op#14 MUL(T#2_36, T#2_22) -> [T#2_37]\n",
      "  Op#15 SUB(T#2_16, T#2_36) -> [T#2_38]\n",
      "  Op#16 ADD(T#2_33, T#2_27) -> [T#2_39]\n",
      "  Op#17 LOGISTIC(T#2_39) -> [T#2_40]\n",
      "  Op#18 MUL(T#2_40, T#2_28) -> [T#2_41]\n",
      "  Op#19 ADD(T#2_34, T#2_41) -> [T#2_42]\n",
      "  Op#20 TANH(T#2_42) -> [T#2_43]\n",
      "  Op#21 MUL(T#2_38, T#2_43) -> [T#2_44]\n",
      "  Op#22 ADD(T#2_37, T#2_44) -> [T#2_45]\n",
      "  Op#23 DEQUANTIZE(T#2_45) -> [T#2_46]\n",
      "  Op#24 SLICE(T#2_21, T#2_15[0, 0, 0], T#2_14[0, -1, -1]) -> [T#2_47]\n",
      "  Op#25 SLICE(T#2_21, T#2_13[1, 0, 0], T#2_12[-1, -1, -1]) -> [T#2_48]\n",
      "  Op#26 EXPAND_DIMS(T#2_45, T#2_11[0]) -> [T#2_49]\n",
      "  Op#27 CONCATENATION(T#2_47, T#2_49, T#2_48) -> [T#2_50]\n",
      "  Op#28 DEQUANTIZE(T#2_50) -> [T#2_51]\n",
      "\n",
      "Tensors of Subgraph#2\n",
      "  T#2_0(sequential_1/gru_1/while_body_arg0) shape:[], type:INT32\n",
      "  T#2_1(sequential_1/gru_1/while_body_arg1) shape:[], type:INT32\n",
      "  T#2_2(sequential_1/gru_1/while_body_arg2) shape_signature:[1, -1, 64], type:FLOAT32\n",
      "  T#2_3(sequential_1/gru_1/while_body_arg3) shape_signature:[-1, 64], type:FLOAT32\n",
      "  T#2_4(sequential_1/gru_1/while_body_arg4) shape_signature:[128, -1, 6], type:FLOAT32\n",
      "  T#2_5(arith.constant9) shape:[], type:INT32 RO 4 bytes, buffer: 4, data:[1]\n",
      "  T#2_6(arith.constant10) shape:[2], type:INT32 RO 8 bytes, buffer: 48, data:[0, 0]\n",
      "  T#2_7(arith.constant11) shape:[2], type:INT32 RO 8 bytes, buffer: 49, data:[0, 64]\n",
      "  T#2_8(arith.constant12) shape:[2], type:INT32 RO 8 bytes, buffer: 50, data:[1, 1]\n",
      "  T#2_9(arith.constant13) shape:[2], type:INT32 RO 8 bytes, buffer: 51, data:[0, 128]\n",
      "  T#2_10(arith.constant14) shape:[], type:INT32 RO 4 bytes, buffer: 52, data:[-1]\n",
      "  T#2_11(arith.constant16) shape:[], type:INT32 RO 4 bytes, buffer: 3, data:[0]\n",
      "  T#2_12(arith.constant17) shape:[3], type:INT32 RO 12 bytes, buffer: 54, data:[-1, -1, -1]\n",
      "  T#2_13(arith.constant18) shape:[3], type:INT32 RO 12 bytes, buffer: 55, data:[1, 0, 0]\n",
      "  T#2_14(arith.constant19) shape:[3], type:INT32 RO 12 bytes, buffer: 56, data:[0, -1, -1]\n",
      "  T#2_15(arith.constant20) shape:[3], type:INT32 RO 12 bytes, buffer: 57, data:[0, 0, 0]\n",
      "  T#2_16(tfl.pseudo_qconst5) shape:[], type:INT8 RO 1 bytes, buffer: 58, data:[.]\n",
      "  T#2_17(tfl.pseudo_qconst6) shape:[192], type:INT32 RO 768 bytes, buffer: 59, data:[262, 410, 103, 472, 395, ...]\n",
      "  T#2_18(tfl.pseudo_qconst7) shape:[192, 6], type:INT8 RO 1152 bytes, buffer: 60, data:[., ., ., ., l, ...]\n",
      "  T#2_19(tfl.pseudo_qconst8) shape:[192], type:INT32 RO 768 bytes, buffer: 61, data:[6386, 6818, 1153, 4312, 10041, ...]\n",
      "  T#2_20(tfl.pseudo_qconst9) shape:[192, 64], type:INT8 RO 12288 bytes, buffer: 62, data:[;, ., ., ., ., ...]\n",
      "  T#2_21(tfl.quantize1) shape_signature:[1, -1, 64], type:INT8\n",
      "  T#2_22(tfl.quantize2) shape_signature:[-1, 64], type:INT8\n",
      "  T#2_23(tfl.quantize3) shape_signature:[128, -1, 6], type:INT8\n",
      "  T#2_24(sequential_1/gru_1/while/add) shape:[], type:INT32\n",
      "  T#2_25(sequential_1/gru_1/while/gru_cell_1/MatMul_1;sequential_1/gru_1/while/gru_cell_1/add_1) shape_signature:[-1, 192], type:INT8\n",
      "  T#2_26(sequential_1/gru_1/while/gru_cell_1/strided_slice) shape_signature:[-1, 64], type:INT8\n",
      "  T#2_27(sequential_1/gru_1/while/gru_cell_1/strided_slice_1) shape_signature:[-1, 64], type:INT8\n",
      "  T#2_28(sequential_1/gru_1/while/gru_cell_1/strided_slice_2) shape_signature:[-1, 64], type:INT8\n",
      "  T#2_29(sequential_1/gru_1/while/add_1) shape:[], type:INT32\n",
      "  T#2_30(sequential_1/gru_1/while/TensorArrayV2Read/TensorListGetItem) shape_signature:[-1, 6], type:INT8\n",
      "  T#2_31(sequential_1/gru_1/while/gru_cell_1/MatMul;sequential_1/gru_1/while/gru_cell_1/add) shape_signature:[-1, 192], type:INT8\n",
      "  T#2_32(sequential_1/gru_1/while/gru_cell_1/split_1;sequential_1/gru_1/while/gru_cell_1/split_11;sequential_1/gru_1/while/gru_cell_1/split_12) shape_signature:[-1, 64], type:INT8\n",
      "  T#2_33(sequential_1/gru_1/while/gru_cell_1/split_1;sequential_1/gru_1/while/gru_cell_1/split_11;sequential_1/gru_1/while/gru_cell_1/split_121) shape_signature:[-1, 64], type:INT8\n",
      "  T#2_34(sequential_1/gru_1/while/gru_cell_1/split_1;sequential_1/gru_1/while/gru_cell_1/split_11;sequential_1/gru_1/while/gru_cell_1/split_122) shape_signature:[-1, 64], type:INT8\n",
      "  T#2_35(sequential_1/gru_1/while/gru_cell_1/add_2) shape_signature:[-1, 64], type:INT8\n",
      "  T#2_36(sequential_1/gru_1/while/gru_cell_1/Sigmoid) shape_signature:[-1, 64], type:INT8\n",
      "  T#2_37(sequential_1/gru_1/while/gru_cell_1/mul_1) shape_signature:[-1, 64], type:INT8\n",
      "  T#2_38(sequential_1/gru_1/while/gru_cell_1/sub) shape_signature:[-1, 64], type:INT8\n",
      "  T#2_39(sequential_1/gru_1/while/gru_cell_1/add_3) shape_signature:[-1, 64], type:INT8\n",
      "  T#2_40(sequential_1/gru_1/while/gru_cell_1/Sigmoid_1) shape_signature:[-1, 64], type:INT8\n",
      "  T#2_41(sequential_1/gru_1/while/gru_cell_1/mul) shape_signature:[-1, 64], type:INT8\n",
      "  T#2_42(sequential_1/gru_1/while/gru_cell_1/add_4) shape_signature:[-1, 64], type:INT8\n",
      "  T#2_43(sequential_1/gru_1/while/gru_cell_1/Tanh) shape_signature:[-1, 64], type:INT8\n",
      "  T#2_44(sequential_1/gru_1/while/gru_cell_1/mul_2) shape_signature:[-1, 64], type:INT8\n",
      "  T#2_45(sequential_1/gru_1/while/gru_cell_1/add_5) shape_signature:[-1, 64], type:INT8\n",
      "  T#2_46(sequential_1/gru_1/while/gru_cell_1/add_51) shape_signature:[-1, 64], type:FLOAT32\n",
      "  T#2_47(sequential_1/gru_1/while/TensorArrayV2Write/TensorListSetItem) shape_signature:[0, -1, 64], type:INT8\n",
      "  T#2_48(sequential_1/gru_1/while/TensorArrayV2Write/TensorListSetItem1) shape_signature:[0, -1, 64], type:INT8\n",
      "  T#2_49(sequential_1/gru_1/while/TensorArrayV2Write/TensorListSetItem2) shape_signature:[1, -1, 64], type:INT8\n",
      "  T#2_50(sequential_1/gru_1/while/TensorArrayV2Write/TensorListSetItem3) shape_signature:[1, -1, 64], type:INT8\n",
      "  T#2_51(tfl.dequantize1) shape_signature:[1, -1, 64], type:FLOAT32\n",
      "\n",
      "---------------------------------------------------------------\n",
      "Your TFLite model has '1' signature_def(s).\n",
      "\n",
      "Signature#0 key: 'serving_default'\n",
      "- Subgraph: Subgraph#0\n",
      "- Inputs: \n",
      "    'keras_tensor' : T#0\n",
      "- Outputs: \n",
      "    'output_0' : T#31\n",
      "\n",
      "---------------------------------------------------------------\n",
      "              Model size:      43216 bytes\n",
      "    Non-data buffer size:      25278 bytes (58.49 %)\n",
      "  Total data buffer size:      17938 bytes (41.51 %)\n",
      "          - Subgraph#0  :       2749 bytes (06.36 %)\n",
      "          - Subgraph#1  :          4 bytes (00.01 %)\n",
      "          - Subgraph#2  :      15069 bytes (34.87 %)\n",
      "    (Zero value buffers):        297 bytes (00.69 %)\n",
      "\n",
      "* Buffers of TFLite model are mostly used for constant tensors.\n",
      "  And zero value buffers are buffers filled with zeros.\n",
      "  Non-data buffers area are used to store operators, subgraphs and etc.\n",
      "  You can find more details from https://github.com/tensorflow/tensorflow/blob/master/tensorflow/lite/schema/schema.fbs\n",
      "\n"
     ]
    }
   ],
   "source": [
    "def representative_data():\n",
    "    for data in tf.data.Dataset.from_tensor_slices(X_train).batch(1).take(100):\n",
    "        yield [tf.cast(data, tf.float32)]\n",
    "        \n",
    "converter = tf.lite.TFLiteConverter.from_keras_model(model)\n",
    "converter.optimizations = [tf.lite.Optimize.DEFAULT]\n",
    "converter._experimental_default_to_single_batch_in_tensor_list_ops = True\n",
    "converter.representative_dataset = representative_data\n",
    "converter.target_spec.supported_ops = [tf.lite.OpsSet.TFLITE_BUILTINS_INT8]\n",
    "converter.inference_input_type = tf.int8\n",
    "converter.inference_output_type = tf.int8\n",
    "\n",
    "tflite_model = converter.convert()\n",
    "\n",
    "filename = \"/kaggle/working/shoaib_har_gru_quant.tflite\"\n",
    "with open(filename, \"wb\") as f:\n",
    "    f.write(tflite_model)\n",
    "\n",
    "print(os.path.getsize(filename) / 1024, \"KB\")\n",
    "\n",
    "!echo \"const unsigned char model[] = {\" > /kaggle/working/shoaib_har_gru.h\n",
    "!cat shoaib_har_gru_quant.tflite | xxd -i      >> /kaggle/working/shoaib_har_gru.h\n",
    "!echo \"};\"                              >> /kaggle/working/shoaib_har_gru.h\n",
    "\n",
    "tf.lite.experimental.Analyzer.analyze(model_path=filename)"
   ]
  },
  {
   "cell_type": "markdown",
   "id": "bf3f7d2c",
   "metadata": {
    "papermill": {
     "duration": 0.155337,
     "end_time": "2025-10-25T18:09:35.581955",
     "exception": false,
     "start_time": "2025-10-25T18:09:35.426618",
     "status": "completed"
    },
    "tags": []
   },
   "source": [
    "# Evaluate TFLite"
   ]
  },
  {
   "cell_type": "code",
   "execution_count": 11,
   "id": "eb6d8f89",
   "metadata": {
    "execution": {
     "iopub.execute_input": "2025-10-25T18:09:35.897688Z",
     "iopub.status.busy": "2025-10-25T18:09:35.897295Z",
     "iopub.status.idle": "2025-10-25T18:09:44.079679Z",
     "shell.execute_reply": "2025-10-25T18:09:44.078460Z"
    },
    "papermill": {
     "duration": 8.34108,
     "end_time": "2025-10-25T18:09:44.081470",
     "exception": false,
     "start_time": "2025-10-25T18:09:35.740390",
     "status": "completed"
    },
    "tags": []
   },
   "outputs": [
    {
     "name": "stderr",
     "output_type": "stream",
     "text": [
      "INFO: Created TensorFlow Lite XNNPACK delegate for CPU.\n"
     ]
    },
    {
     "data": {
      "application/vnd.jupyter.widget-view+json": {
       "model_id": "f57bcd624c5147078f80d74a13ccfcb6",
       "version_major": 2,
       "version_minor": 0
      },
      "text/plain": [
       "  0%|          | 0/9844 [00:00<?, ?it/s]"
      ]
     },
     "metadata": {},
     "output_type": "display_data"
    },
    {
     "name": "stdout",
     "output_type": "stream",
     "text": [
      "              precision    recall  f1-score   support\n",
      "\n",
      "     walking       0.99      0.92      0.96      1408\n",
      "    standing       0.96      0.96      0.96      1406\n",
      "     jogging       0.99      1.00      0.99      1406\n",
      "     sitting       0.97      0.95      0.96      1406\n",
      "      biking       0.98      0.99      0.98      1407\n",
      "    upstairs       0.94      0.99      0.96      1406\n",
      "  downstairs       0.98      0.99      0.99      1405\n",
      "\n",
      "    accuracy                           0.97      9844\n",
      "   macro avg       0.97      0.97      0.97      9844\n",
      "weighted avg       0.97      0.97      0.97      9844\n",
      "\n"
     ]
    },
    {
     "data": {
      "image/png": "[encoded data removed]",
      "text/plain": [
       "<Figure size 640x480 with 2 Axes>"
      ]
     },
     "metadata": {},
     "output_type": "display_data"
    }
   ],
   "source": [
    "interpreter = tf.lite.Interpreter(model_path=\"/kaggle/working/shoaib_har_gru_quant.tflite\")\n",
    "interpreter.allocate_tensors()\n",
    "\n",
    "input_details = interpreter.get_input_details()\n",
    "output_details = interpreter.get_output_details()\n",
    "\n",
    "scale, zero_point = input_details[0]['quantization']\n",
    "\n",
    "y_tflite_pred = []\n",
    "\n",
    "for i in tqdm(range(len(X_test))):\n",
    "    # Quantize one sample\n",
    "    x = np.round(X_test[i:i+1] / scale + zero_point).astype(np.int8)\n",
    "    \n",
    "    interpreter.set_tensor(input_details[0]['index'], x)\n",
    "    interpreter.invoke()\n",
    "    \n",
    "    # Dequantize output (optional)\n",
    "    yq = interpreter.get_tensor(output_details[0]['index'])\n",
    "    y_tflite_pred.append(np.argmax(yq, axis=1)[0])\n",
    "\n",
    "y_tflite_pred = np.array(y_tflite_pred)\n",
    "\n",
    "print(classification_report(y_true, y_tflite_pred, target_names=labels))\n",
    "\n",
    "cm = confusion_matrix(y_true, y_tflite_pred)\n",
    "cm = cm / cm.sum(axis=1)[:, None]\n",
    "sns.heatmap(cm, annot=True, xticklabels=labels, yticklabels=labels, fmt=\".2f\", cmap=\"Blues\")\n",
    "plt.xlabel('Predicted')\n",
    "plt.ylabel('True')\n",
    "plt.title('TFLite Model Confusion Matrix')\n",
    "plt.show()"
   ]
  }
 ],
 "metadata": {
  "kaggle": {
   "accelerator": "none",
   "dataSources": [
    {
     "datasetId": 8504686,
     "sourceId": 13401539,
     "sourceType": "datasetVersion"
    }
   ],
   "dockerImageVersionId": 31153,
   "isGpuEnabled": false,
   "isInternetEnabled": false,
   "language": "python",
   "sourceType": "notebook"
  },
  "kernelspec": {
   "display_name": "Python 3",
   "language": "python",
   "name": "python3"
  },
  "language_info": {
   "codemirror_mode": {
    "name": "ipython",
    "version": 3
   },
   "file_extension": ".py",
   "mimetype": "text/x-python",
   "name": "python",
   "nbconvert_exporter": "python",
   "pygments_lexer": "ipython3",
   "version": "3.11.13"
  },
  "papermill": {
   "default_parameters": {},
   "duration": 965.16301,
   "end_time": "2025-10-25T18:09:47.697881",
   "environment_variables": {},
   "exception": null,
   "input_path": "__notebook__.ipynb",
   "output_path": "__notebook__.ipynb",
   "parameters": {},
   "start_time": "2025-10-25T17:53:42.534871",
   "version": "2.6.0"
  },
  "widgets": {
   "application/vnd.jupyter.widget-state+json": {
    "state": {
     "02d54c8f797a446e8cce449a42e056c3": {
      "model_module": "@jupyter-widgets/controls",
      "model_module_version": "2.0.0",
      "model_name": "FloatProgressModel",
      "state": {
       "_dom_classes": [],
       "_model_module": "@jupyter-widgets/controls",
       "_model_module_version": "2.0.0",
       "_model_name": "FloatProgressModel",
       "_view_count": null,
       "_view_module": "@jupyter-widgets/controls",
       "_view_module_version": "2.0.0",
       "_view_name": "ProgressView",
       "bar_style": "success",
       "description": "",
       "description_allow_html": false,
       "layout": "IPY_MODEL_34c0f0dba9244d239e1d95a98113bd39",
       "max": 50.0,
       "min": 0.0,
       "orientation": "horizontal",
       "style": "IPY_MODEL_26816e843c9a4703ae64d459d763ea39",
       "tabbable": null,
       "tooltip": null,
       "value": 50.0
      }
     },
     "1946fc03111442d5a263c1b5ad40a50b": {
      "model_module": "@jupyter-widgets/base",
      "model_module_version": "2.0.0",
      "model_name": "LayoutModel",
      "state": {
       "_model_module": "@jupyter-widgets/base",
       "_model_module_version": "2.0.0",
       "_model_name": "LayoutModel",
       "_view_count": null,
       "_view_module": "@jupyter-widgets/base",
       "_view_module_version": "2.0.0",
       "_view_name": "LayoutView",
       "align_content": null,
       "align_items": null,
       "align_self": null,
       "border_bottom": null,
       "border_left": null,
       "border_right": null,
       "border_top": null,
       "bottom": null,
       "display": null,
       "flex": null,
       "flex_flow": null,
       "grid_area": null,
       "grid_auto_columns": null,
       "grid_auto_flow": null,
       "grid_auto_rows": null,
       "grid_column": null,
       "grid_gap": null,
       "grid_row": null,
       "grid_template_areas": null,
       "grid_template_columns": null,
       "grid_template_rows": null,
       "height": null,
       "justify_content": null,
       "justify_items": null,
       "left": null,
       "margin": null,
       "max_height": null,
       "max_width": null,
       "min_height": null,
       "min_width": null,
       "object_fit": null,
       "object_position": null,
       "order": null,
       "overflow": null,
       "padding": null,
       "right": null,
       "top": null,
       "visibility": null,
       "width": null
      }
     },
     "26816e843c9a4703ae64d459d763ea39": {
      "model_module": "@jupyter-widgets/controls",
      "model_module_version": "2.0.0",
      "model_name": "ProgressStyleModel",
      "state": {
       "_model_module": "@jupyter-widgets/controls",
       "_model_module_version": "2.0.0",
       "_model_name": "ProgressStyleModel",
       "_view_count": null,
       "_view_module": "@jupyter-widgets/base",
       "_view_module_version": "2.0.0",
       "_view_name": "StyleView",
       "bar_color": null,
       "description_width": ""
      }
     },
     "34c0f0dba9244d239e1d95a98113bd39": {
      "model_module": "@jupyter-widgets/base",
      "model_module_version": "2.0.0",
      "model_name": "LayoutModel",
      "state": {
       "_model_module": "@jupyter-widgets/base",
       "_model_module_version": "2.0.0",
       "_model_name": "LayoutModel",
       "_view_count": null,
       "_view_module": "@jupyter-widgets/base",
       "_view_module_version": "2.0.0",
       "_view_name": "LayoutView",
       "align_content": null,
       "align_items": null,
       "align_self": null,
       "border_bottom": null,
       "border_left": null,
       "border_right": null,
       "border_top": null,
       "bottom": null,
       "display": null,
       "flex": null,
       "flex_flow": null,
       "grid_area": null,
       "grid_auto_columns": null,
       "grid_auto_flow": null,
       "grid_auto_rows": null,
       "grid_column": null,
       "grid_gap": null,
       "grid_row": null,
       "grid_template_areas": null,
       "grid_template_columns": null,
       "grid_template_rows": null,
       "height": null,
       "justify_content": null,
       "justify_items": null,
       "left": null,
       "margin": null,
       "max_height": null,
       "max_width": null,
       "min_height": null,
       "min_width": null,
       "object_fit": null,
       "object_position": null,
       "order": null,
       "overflow": null,
       "padding": null,
       "right": null,
       "top": null,
       "visibility": null,
       "width": null
      }
     },
     "3b85928d24b14d3c816b6f233ee37898": {
      "model_module": "@jupyter-widgets/base",
      "model_module_version": "2.0.0",
      "model_name": "LayoutModel",
      "state": {
       "_model_module": "@jupyter-widgets/base",
       "_model_module_version": "2.0.0",
       "_model_name": "LayoutModel",
       "_view_count": null,
       "_view_module": "@jupyter-widgets/base",
       "_view_module_version": "2.0.0",
       "_view_name": "LayoutView",
       "align_content": null,
       "align_items": null,
       "align_self": null,
       "border_bottom": null,
       "border_left": null,
       "border_right": null,
       "border_top": null,
       "bottom": null,
       "display": null,
       "flex": null,
       "flex_flow": null,
       "grid_area": null,
       "grid_auto_columns": null,
       "grid_auto_flow": null,
       "grid_auto_rows": null,
       "grid_column": null,
       "grid_gap": null,
       "grid_row": null,
       "grid_template_areas": null,
       "grid_template_columns": null,
       "grid_template_rows": null,
       "height": null,
       "justify_content": null,
       "justify_items": null,
       "left": null,
       "margin": null,
       "max_height": null,
       "max_width": null,
       "min_height": null,
       "min_width": null,
       "object_fit": null,
       "object_position": null,
       "order": null,
       "overflow": null,
       "padding": null,
       "right": null,
       "top": null,
       "visibility": null,
       "width": null
      }
     },
     "3d74f7af5b214feeba312d8e33cf98a3": {
      "model_module": "@jupyter-widgets/controls",
      "model_module_version": "2.0.0",
      "model_name": "HTMLModel",
      "state": {
       "_dom_classes": [],
       "_model_module": "@jupyter-widgets/controls",
       "_model_module_version": "2.0.0",
       "_model_name": "HTMLModel",
       "_view_count": null,
       "_view_module": "@jupyter-widgets/controls",
       "_view_module_version": "2.0.0",
       "_view_name": "HTMLView",
       "description": "",
       "description_allow_html": false,
       "layout": "IPY_MODEL_3b85928d24b14d3c816b6f233ee37898",
       "placeholder": "​",
       "style": "IPY_MODEL_8e631b4c21cc4016980800d227599723",
       "tabbable": null,
       "tooltip": null,
       "value": " 50/50 [00:08&lt;00:00,  4.67it/s]"
      }
     },
     "4031d98157a64fe4ba93cbf8146b9026": {
      "model_module": "@jupyter-widgets/controls",
      "model_module_version": "2.0.0",
      "model_name": "HTMLModel",
      "state": {
       "_dom_classes": [],
       "_model_module": "@jupyter-widgets/controls",
       "_model_module_version": "2.0.0",
       "_model_name": "HTMLModel",
       "_view_count": null,
       "_view_module": "@jupyter-widgets/controls",
       "_view_module_version": "2.0.0",
       "_view_name": "HTMLView",
       "description": "",
       "description_allow_html": false,
       "layout": "IPY_MODEL_512557229f8546f6922ecc4bdaff3618",
       "placeholder": "​",
       "style": "IPY_MODEL_e274912abcfb4c6496d1416efd995a0e",
       "tabbable": null,
       "tooltip": null,
       "value": " 9844/9844 [00:07&lt;00:00, 1219.81it/s]"
      }
     },
     "48ff06ce82b247b6877741938dfc63b2": {
      "model_module": "@jupyter-widgets/controls",
      "model_module_version": "2.0.0",
      "model_name": "HTMLModel",
      "state": {
       "_dom_classes": [],
       "_model_module": "@jupyter-widgets/controls",
       "_model_module_version": "2.0.0",
       "_model_name": "HTMLModel",
       "_view_count": null,
       "_view_module": "@jupyter-widgets/controls",
       "_view_module_version": "2.0.0",
       "_view_name": "HTMLView",
       "description": "",
       "description_allow_html": false,
       "layout": "IPY_MODEL_9afddf628a94490db65839347186f0bb",
       "placeholder": "​",
       "style": "IPY_MODEL_dd84634d5eb140c8a1fa360efaa63657",
       "tabbable": null,
       "tooltip": null,
       "value": "100%"
      }
     },
     "512557229f8546f6922ecc4bdaff3618": {
      "model_module": "@jupyter-widgets/base",
      "model_module_version": "2.0.0",
      "model_name": "LayoutModel",
      "state": {
       "_model_module": "@jupyter-widgets/base",
       "_model_module_version": "2.0.0",
       "_model_name": "LayoutModel",
       "_view_count": null,
       "_view_module": "@jupyter-widgets/base",
       "_view_module_version": "2.0.0",
       "_view_name": "LayoutView",
       "align_content": null,
       "align_items": null,
       "align_self": null,
       "border_bottom": null,
       "border_left": null,
       "border_right": null,
       "border_top": null,
       "bottom": null,
       "display": null,
       "flex": null,
       "flex_flow": null,
       "grid_area": null,
       "grid_auto_columns": null,
       "grid_auto_flow": null,
       "grid_auto_rows": null,
       "grid_column": null,
       "grid_gap": null,
       "grid_row": null,
       "grid_template_areas": null,
       "grid_template_columns": null,
       "grid_template_rows": null,
       "height": null,
       "justify_content": null,
       "justify_items": null,
       "left": null,
       "margin": null,
       "max_height": null,
       "max_width": null,
       "min_height": null,
       "min_width": null,
       "object_fit": null,
       "object_position": null,
       "order": null,
       "overflow": null,
       "padding": null,
       "right": null,
       "top": null,
       "visibility": null,
       "width": null
      }
     },
     "6119067de9224866ad74c5de617f2907": {
      "model_module": "@jupyter-widgets/base",
      "model_module_version": "2.0.0",
      "model_name": "LayoutModel",
      "state": {
       "_model_module": "@jupyter-widgets/base",
       "_model_module_version": "2.0.0",
       "_model_name": "LayoutModel",
       "_view_count": null,
       "_view_module": "@jupyter-widgets/base",
       "_view_module_version": "2.0.0",
       "_view_name": "LayoutView",
       "align_content": null,
       "align_items": null,
       "align_self": null,
       "border_bottom": null,
       "border_left": null,
       "border_right": null,
       "border_top": null,
       "bottom": null,
       "display": null,
       "flex": null,
       "flex_flow": null,
       "grid_area": null,
       "grid_auto_columns": null,
       "grid_auto_flow": null,
       "grid_auto_rows": null,
       "grid_column": null,
       "grid_gap": null,
       "grid_row": null,
       "grid_template_areas": null,
       "grid_template_columns": null,
       "grid_template_rows": null,
       "height": null,
       "justify_content": null,
       "justify_items": null,
       "left": null,
       "margin": null,
       "max_height": null,
       "max_width": null,
       "min_height": null,
       "min_width": null,
       "object_fit": null,
       "object_position": null,
       "order": null,
       "overflow": null,
       "padding": null,
       "right": null,
       "top": null,
       "visibility": null,
       "width": null
      }
     },
     "63a9820f5d994ea588dace6a87461320": {
      "model_module": "@jupyter-widgets/base",
      "model_module_version": "2.0.0",
      "model_name": "LayoutModel",
      "state": {
       "_model_module": "@jupyter-widgets/base",
       "_model_module_version": "2.0.0",
       "_model_name": "LayoutModel",
       "_view_count": null,
       "_view_module": "@jupyter-widgets/base",
       "_view_module_version": "2.0.0",
       "_view_name": "LayoutView",
       "align_content": null,
       "align_items": null,
       "align_self": null,
       "border_bottom": null,
       "border_left": null,
       "border_right": null,
       "border_top": null,
       "bottom": null,
       "display": null,
       "flex": null,
       "flex_flow": null,
       "grid_area": null,
       "grid_auto_columns": null,
       "grid_auto_flow": null,
       "grid_auto_rows": null,
       "grid_column": null,
       "grid_gap": null,
       "grid_row": null,
       "grid_template_areas": null,
       "grid_template_columns": null,
       "grid_template_rows": null,
       "height": null,
       "justify_content": null,
       "justify_items": null,
       "left": null,
       "margin": null,
       "max_height": null,
       "max_width": null,
       "min_height": null,
       "min_width": null,
       "object_fit": null,
       "object_position": null,
       "order": null,
       "overflow": null,
       "padding": null,
       "right": null,
       "top": null,
       "visibility": null,
       "width": null
      }
     },
     "69a7d81183ff40e48d8c25827458a9a9": {
      "model_module": "@jupyter-widgets/controls",
      "model_module_version": "2.0.0",
      "model_name": "HTMLModel",
      "state": {
       "_dom_classes": [],
       "_model_module": "@jupyter-widgets/controls",
       "_model_module_version": "2.0.0",
       "_model_name": "HTMLModel",
       "_view_count": null,
       "_view_module": "@jupyter-widgets/controls",
       "_view_module_version": "2.0.0",
       "_view_name": "HTMLView",
       "description": "",
       "description_allow_html": false,
       "layout": "IPY_MODEL_63a9820f5d994ea588dace6a87461320",
       "placeholder": "​",
       "style": "IPY_MODEL_bc0aaec426ce4578b754be163bb212b5",
       "tabbable": null,
       "tooltip": null,
       "value": "100%"
      }
     },
     "76213803c33445fcbda48bdddb35483e": {
      "model_module": "@jupyter-widgets/controls",
      "model_module_version": "2.0.0",
      "model_name": "FloatProgressModel",
      "state": {
       "_dom_classes": [],
       "_model_module": "@jupyter-widgets/controls",
       "_model_module_version": "2.0.0",
       "_model_name": "FloatProgressModel",
       "_view_count": null,
       "_view_module": "@jupyter-widgets/controls",
       "_view_module_version": "2.0.0",
       "_view_name": "ProgressView",
       "bar_style": "success",
       "description": "",
       "description_allow_html": false,
       "layout": "IPY_MODEL_c9db7521e44f48d2bb31bd6617ea3a60",
       "max": 9844.0,
       "min": 0.0,
       "orientation": "horizontal",
       "style": "IPY_MODEL_d8622cb831f64d6e9f1a0a1b597a5ae5",
       "tabbable": null,
       "tooltip": null,
       "value": 9844.0
      }
     },
     "8e631b4c21cc4016980800d227599723": {
      "model_module": "@jupyter-widgets/controls",
      "model_module_version": "2.0.0",
      "model_name": "HTMLStyleModel",
      "state": {
       "_model_module": "@jupyter-widgets/controls",
       "_model_module_version": "2.0.0",
       "_model_name": "HTMLStyleModel",
       "_view_count": null,
       "_view_module": "@jupyter-widgets/base",
       "_view_module_version": "2.0.0",
       "_view_name": "StyleView",
       "background": null,
       "description_width": "",
       "font_size": null,
       "text_color": null
      }
     },
     "9afddf628a94490db65839347186f0bb": {
      "model_module": "@jupyter-widgets/base",
      "model_module_version": "2.0.0",
      "model_name": "LayoutModel",
      "state": {
       "_model_module": "@jupyter-widgets/base",
       "_model_module_version": "2.0.0",
       "_model_name": "LayoutModel",
       "_view_count": null,
       "_view_module": "@jupyter-widgets/base",
       "_view_module_version": "2.0.0",
       "_view_name": "LayoutView",
       "align_content": null,
       "align_items": null,
       "align_self": null,
       "border_bottom": null,
       "border_left": null,
       "border_right": null,
       "border_top": null,
       "bottom": null,
       "display": null,
       "flex": null,
       "flex_flow": null,
       "grid_area": null,
       "grid_auto_columns": null,
       "grid_auto_flow": null,
       "grid_auto_rows": null,
       "grid_column": null,
       "grid_gap": null,
       "grid_row": null,
       "grid_template_areas": null,
       "grid_template_columns": null,
       "grid_template_rows": null,
       "height": null,
       "justify_content": null,
       "justify_items": null,
       "left": null,
       "margin": null,
       "max_height": null,
       "max_width": null,
       "min_height": null,
       "min_width": null,
       "object_fit": null,
       "object_position": null,
       "order": null,
       "overflow": null,
       "padding": null,
       "right": null,
       "top": null,
       "visibility": null,
       "width": null
      }
     },
     "bc0aaec426ce4578b754be163bb212b5": {
      "model_module": "@jupyter-widgets/controls",
      "model_module_version": "2.0.0",
      "model_name": "HTMLStyleModel",
      "state": {
       "_model_module": "@jupyter-widgets/controls",
       "_model_module_version": "2.0.0",
       "_model_name": "HTMLStyleModel",
       "_view_count": null,
       "_view_module": "@jupyter-widgets/base",
       "_view_module_version": "2.0.0",
       "_view_name": "StyleView",
       "background": null,
       "description_width": "",
       "font_size": null,
       "text_color": null
      }
     },
     "c9db7521e44f48d2bb31bd6617ea3a60": {
      "model_module": "@jupyter-widgets/base",
      "model_module_version": "2.0.0",
      "model_name": "LayoutModel",
      "state": {
       "_model_module": "@jupyter-widgets/base",
       "_model_module_version": "2.0.0",
       "_model_name": "LayoutModel",
       "_view_count": null,
       "_view_module": "@jupyter-widgets/base",
       "_view_module_version": "2.0.0",
       "_view_name": "LayoutView",
       "align_content": null,
       "align_items": null,
       "align_self": null,
       "border_bottom": null,
       "border_left": null,
       "border_right": null,
       "border_top": null,
       "bottom": null,
       "display": null,
       "flex": null,
       "flex_flow": null,
       "grid_area": null,
       "grid_auto_columns": null,
       "grid_auto_flow": null,
       "grid_auto_rows": null,
       "grid_column": null,
       "grid_gap": null,
       "grid_row": null,
       "grid_template_areas": null,
       "grid_template_columns": null,
       "grid_template_rows": null,
       "height": null,
       "justify_content": null,
       "justify_items": null,
       "left": null,
       "margin": null,
       "max_height": null,
       "max_width": null,
       "min_height": null,
       "min_width": null,
       "object_fit": null,
       "object_position": null,
       "order": null,
       "overflow": null,
       "padding": null,
       "right": null,
       "top": null,
       "visibility": null,
       "width": null
      }
     },
     "d8622cb831f64d6e9f1a0a1b597a5ae5": {
      "model_module": "@jupyter-widgets/controls",
      "model_module_version": "2.0.0",
      "model_name": "ProgressStyleModel",
      "state": {
       "_model_module": "@jupyter-widgets/controls",
       "_model_module_version": "2.0.0",
       "_model_name": "ProgressStyleModel",
       "_view_count": null,
       "_view_module": "@jupyter-widgets/base",
       "_view_module_version": "2.0.0",
       "_view_name": "StyleView",
       "bar_color": null,
       "description_width": ""
      }
     },
     "dd84634d5eb140c8a1fa360efaa63657": {
      "model_module": "@jupyter-widgets/controls",
      "model_module_version": "2.0.0",
      "model_name": "HTMLStyleModel",
      "state": {
       "_model_module": "@jupyter-widgets/controls",
       "_model_module_version": "2.0.0",
       "_model_name": "HTMLStyleModel",
       "_view_count": null,
       "_view_module": "@jupyter-widgets/base",
       "_view_module_version": "2.0.0",
       "_view_name": "StyleView",
       "background": null,
       "description_width": "",
       "font_size": null,
       "text_color": null
      }
     },
     "e274912abcfb4c6496d1416efd995a0e": {
      "model_module": "@jupyter-widgets/controls",
      "model_module_version": "2.0.0",
      "model_name": "HTMLStyleModel",
      "state": {
       "_model_module": "@jupyter-widgets/controls",
       "_model_module_version": "2.0.0",
       "_model_name": "HTMLStyleModel",
       "_view_count": null,
       "_view_module": "@jupyter-widgets/base",
       "_view_module_version": "2.0.0",
       "_view_name": "StyleView",
       "background": null,
       "description_width": "",
       "font_size": null,
       "text_color": null
      }
     },
     "ebbd82a081c242c68edd50e2d93895f7": {
      "model_module": "@jupyter-widgets/controls",
      "model_module_version": "2.0.0",
      "model_name": "HBoxModel",
      "state": {
       "_dom_classes": [],
       "_model_module": "@jupyter-widgets/controls",
       "_model_module_version": "2.0.0",
       "_model_name": "HBoxModel",
       "_view_count": null,
       "_view_module": "@jupyter-widgets/controls",
       "_view_module_version": "2.0.0",
       "_view_name": "HBoxView",
       "box_style": "",
       "children": [
        "IPY_MODEL_69a7d81183ff40e48d8c25827458a9a9",
        "IPY_MODEL_02d54c8f797a446e8cce449a42e056c3",
        "IPY_MODEL_3d74f7af5b214feeba312d8e33cf98a3"
       ],
       "layout": "IPY_MODEL_1946fc03111442d5a263c1b5ad40a50b",
       "tabbable": null,
       "tooltip": null
      }
     },
     "f57bcd624c5147078f80d74a13ccfcb6": {
      "model_module": "@jupyter-widgets/controls",
      "model_module_version": "2.0.0",
      "model_name": "HBoxModel",
      "state": {
       "_dom_classes": [],
       "_model_module": "@jupyter-widgets/controls",
       "_model_module_version": "2.0.0",
       "_model_name": "HBoxModel",
       "_view_count": null,
       "_view_module": "@jupyter-widgets/controls",
       "_view_module_version": "2.0.0",
       "_view_name": "HBoxView",
       "box_style": "",
       "children": [
        "IPY_MODEL_48ff06ce82b247b6877741938dfc63b2",
        "IPY_MODEL_76213803c33445fcbda48bdddb35483e",
        "IPY_MODEL_4031d98157a64fe4ba93cbf8146b9026"
       ],
       "layout": "IPY_MODEL_6119067de9224866ad74c5de617f2907",
       "tabbable": null,
       "tooltip": null
      }
     }
    },
    "version_major": 2,
    "version_minor": 0
   }
  }
 },
 "nbformat": 4,
 "nbformat_minor": 5
}
